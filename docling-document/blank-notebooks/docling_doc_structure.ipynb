{
 "cells": [
  {
   "cell_type": "markdown",
   "id": "2e1d9995-50e0-4ce1-b725-e5c1eb67efa5",
   "metadata": {},
   "source": [
    "# Docling Document Structure\n",
    "\n",
    "This notebook examines the structure of ```DoclingDocument``` objects, as well as implementations of some relevant properties/methods for editing documents."
   ]
  },
  {
   "cell_type": "markdown",
   "id": "425d7ad9-0362-49f6-bb90-c4a8efc24d82",
   "metadata": {
    "jp-MarkdownHeadingCollapsed": true
   },
   "source": [
    "---\n",
    "## Imports\n",
    "Run the following cells to import necessary packages for this notebook, namely Docling."
   ]
  },
  {
   "cell_type": "code",
   "execution_count": null,
   "id": "45981518-afb9-4d02-a8b5-0a0ee8b11a05",
   "metadata": {},
   "outputs": [],
   "source": [
    "!pip install -q docling"
   ]
  },
  {
   "cell_type": "code",
   "execution_count": null,
   "id": "41979eac-e6e2-4d5c-b035-7f79ae11595b",
   "metadata": {},
   "outputs": [],
   "source": [
    "import re\n",
    "\n",
    "from docling.document_converter import DocumentConverter\n",
    "from docling_core.types.doc.document import (\n",
    "    DoclingDocument,\n",
    "    RefItem,\n",
    "    ListItem,\n",
    "    TextItem,\n",
    "    GroupItem\n",
    ")\n",
    "from docling_core.types.doc.labels import DocItemLabel"
   ]
  },
  {
   "cell_type": "markdown",
   "id": "8e95c6b3-0aa7-472b-89b2-acbc5d18b031",
   "metadata": {
    "jp-MarkdownHeadingCollapsed": true
   },
   "source": [
    "## Create Example Document\n",
    "\n",
    "The following function converts the ```01_Advantage_Savings.pdf``` file with default conversion setttings to use as an example throughout the notebook."
   ]
  },
  {
   "cell_type": "code",
   "execution_count": null,
   "id": "66513c94-1881-458e-9191-517d908b5e7b",
   "metadata": {},
   "outputs": [],
   "source": [
    "FILE_SOURCE = 'files/pdf/01_Advantage_Savings.pdf'\n",
    "\n",
    "converter = DocumentConverter()\n",
    "result = converter.convert(FILE_SOURCE)\n",
    "\n",
    "docling_doc = result.document\n",
    "print(type(docling_doc))"
   ]
  },
  {
   "cell_type": "markdown",
   "id": "2e651a1d-157d-442f-a7e3-65d947302c7a",
   "metadata": {
    "jp-MarkdownHeadingCollapsed": true
   },
   "source": [
    "## Visualizing Docling Documents\n",
    "\n",
    "The following cells cover the methods available for visualizing Docling Documents, both in their structure and content."
   ]
  },
  {
   "cell_type": "markdown",
   "id": "b823dd73-2219-4f95-882d-97e9a3047d1e",
   "metadata": {},
   "source": [
    "<br>\n",
    "\n",
    "```print_element_tree()``` - Visualizes the content layers and parent/child relationships in the document"
   ]
  },
  {
   "cell_type": "code",
   "execution_count": null,
   "id": "6d7c4414-2eaf-4018-b495-d1fee6b8c224",
   "metadata": {},
   "outputs": [],
   "source": [
    "docling_doc.print_element_tree()\n",
    "\n",
    "# Alternative: export_to_element_tree() - same as print_element_tree(), but saves the tree as a string\n",
    "\n",
    "# tree = docling_doc.export_to_element_tree()\n",
    "# print(tree)"
   ]
  },
  {
   "cell_type": "markdown",
   "id": "e56dac4c-f679-4a21-bf0f-1c434123bc36",
   "metadata": {},
   "source": [
    "<br>\n",
    "\n",
    "```export_to_markdown()``` - Converts the content of the document to Markdown format, which can be printed"
   ]
  },
  {
   "cell_type": "code",
   "execution_count": null,
   "id": "0367bb10-40fd-4593-b250-46e5997fc97f",
   "metadata": {},
   "outputs": [],
   "source": [
    "markdown = docling_doc.export_to_markdown()\n",
    "\n",
    "print(markdown[0:200], \"\\n...\")"
   ]
  },
  {
   "cell_type": "markdown",
   "id": "56bfe035-7a0b-4edd-b335-70285f312464",
   "metadata": {},
   "source": [
    "<br>\n",
    "\n",
    "```save_as_markdown()``` - A wraper on export_to_markdown(), saves the Markdown version of the document to the specified file path"
   ]
  },
  {
   "cell_type": "code",
   "execution_count": null,
   "id": "969602f1-7dcd-482e-881a-66e9a21130fd",
   "metadata": {},
   "outputs": [],
   "source": [
    "MARKDOWN_FILENAME = \"files/markdown/\" + docling_doc.name + \".md\"\n",
    "\n",
    "docling_doc.save_as_markdown(MARKDOWN_FILENAME)"
   ]
  },
  {
   "cell_type": "markdown",
   "id": "e3ce8065-7c3d-4093-bce8-68af5d400ed0",
   "metadata": {},
   "source": [
    "<br>\n",
    "\n",
    "```export_to_text()``` - Just wraps ```export_to_markdown()``` currently and gives the same output"
   ]
  },
  {
   "cell_type": "markdown",
   "id": "ef03bfe6-2a39-45b5-af4f-a82ab60b0285",
   "metadata": {},
   "source": [
    "<br>\n",
    "\n",
    "```export_to_html()``` - Saves a string representation of the document in HTML"
   ]
  },
  {
   "cell_type": "code",
   "execution_count": null,
   "id": "81be8891-e189-4d05-b19d-b45025226bdf",
   "metadata": {},
   "outputs": [],
   "source": [
    "html = docling_doc.export_to_html()\n",
    "\n",
    "print(html[0:200], \"\\n...\")"
   ]
  },
  {
   "cell_type": "markdown",
   "id": "4e4ed6a4-6f3e-4c67-9f1d-14721acdd621",
   "metadata": {},
   "source": [
    "<br>\n",
    "\n",
    "```save_as_html()``` - A wraper on export_to_markdown(), saves the Markdown version of the document to the specified file path"
   ]
  },
  {
   "cell_type": "code",
   "execution_count": null,
   "id": "93992b68-03dc-43f9-84c4-6b675b1499a1",
   "metadata": {},
   "outputs": [],
   "source": [
    "HTML_FILENAME = \"files/html/\" + docling_doc.name + \".html\"\n",
    "\n",
    "docling_doc.save_as_html(HTML_FILENAME)"
   ]
  },
  {
   "cell_type": "markdown",
   "id": "878b4ec3-289f-4d0a-8edf-f8df9095bb73",
   "metadata": {},
   "source": [
    "<br>\n",
    "\n",
    "```get_visualization()``` - **Should be explored further in a separate spike**, as it uses functions from the transforms.visualizer module, which I felt was too far out of scope. However, this seems to be related to how Docling renders its DoclingRendered preview in Docling Serve UI"
   ]
  },
  {
   "cell_type": "markdown",
   "id": "62bcb3a9-193d-4179-b735-a18d25d545db",
   "metadata": {},
   "source": [
    "```export_to_doctags()``` - Saves a string representation of the document with Docling's DocTags language. **Can be extended to get a 1:1 string of the raw text extracted by Docling from a document**"
   ]
  },
  {
   "cell_type": "code",
   "execution_count": null,
   "id": "7caac7a2-f834-4bd8-b732-fc570675216f",
   "metadata": {},
   "outputs": [],
   "source": [
    "# Get DocTags\n",
    "\n",
    "doctags = docling_doc.export_to_doctags()\n",
    "\n",
    "print(doctags[0:200], \"\\n...\")"
   ]
  },
  {
   "cell_type": "code",
   "execution_count": null,
   "id": "133c8925-7453-41c3-859f-898c1bb68fd4",
   "metadata": {},
   "outputs": [],
   "source": [
    "raw_text = re.sub(r\"<.*?>\", \"\", doctags, flags=re.DOTALL).strip()\n",
    "\n",
    "print(raw_text[0:200], \"\\n...\")"
   ]
  },
  {
   "cell_type": "markdown",
   "id": "5e557f9c-2684-4d1e-8680-25365d98be49",
   "metadata": {
    "jp-MarkdownHeadingCollapsed": true
   },
   "source": [
    "## Saving/Loading Docling Documents\n",
    "\n",
    "The following cells cover the methods available for saving 1-to-1 representations of Docling Documents and sourcing them to create new Docling Document objects. Unlike exporting as markdown or HTML, the following exports are lossless, meaning that they store all of the data present in the pydantic class definition of a Docling Document. This makes them good candidates for storing the Docling Document during review, as it allows for edits to be made in a more controlled manner through methods on the Docling Document object."
   ]
  },
  {
   "cell_type": "markdown",
   "id": "3743a483-bcca-4d93-8a5e-51aed713a11c",
   "metadata": {},
   "source": [
    "<br>\n",
    "\n",
    "```save_as_json()``` - Saves a 1:1 representaiton of the DoclingDocument in a JSON file with the file path specified"
   ]
  },
  {
   "cell_type": "code",
   "execution_count": null,
   "id": "69341dc4-becd-4252-8743-c35bf2ec64cb",
   "metadata": {},
   "outputs": [],
   "source": [
    "JSON_FILENAME = \"files/json/\" + docling_doc.name + \".json\"\n",
    "\n",
    "docling_doc.save_as_json(JSON_FILENAME)"
   ]
  },
  {
   "cell_type": "markdown",
   "id": "32f55a92-7ed8-481e-9009-29ae3cfe3aef",
   "metadata": {},
   "source": [
    "<br>\n",
    "\n",
    "```load_from_json()``` - Loads the contents of a JSON file with the file path specified and (if valid) turns them into a DoclingDocument object."
   ]
  },
  {
   "cell_type": "code",
   "execution_count": null,
   "id": "955ca01d-38f4-4ce0-8e1d-d9e64298b8ec",
   "metadata": {},
   "outputs": [],
   "source": [
    "from_json = docling_doc.load_from_json(JSON_FILENAME)\n",
    "\n",
    "print(type(from_json))"
   ]
  },
  {
   "cell_type": "markdown",
   "id": "ae88eb66-f8e2-4446-b488-7470360db93a",
   "metadata": {
    "jp-MarkdownHeadingCollapsed": true
   },
   "source": [
    "## The Parts of Docling Documents\n",
    "\n",
    "Before attempting to edit Docling Documents with built-in methods, it is important to understand how Docling Documents are organized as a data type and how to access parts within them.\n",
    "\n",
    "If you look in ```01_Advantage_Savings.json```, you will see the standard structure of a Docling Document. There are a few important parts to point out:"
   ]
  },
  {
   "cell_type": "markdown",
   "id": "1f87e8ff-b10f-4c65-ad39-7ab57685a981",
   "metadata": {},
   "source": [
    "1\\. Origin - This contains metadata about the original document and can be useful for tracing back document conversions"
   ]
  },
  {
   "cell_type": "code",
   "execution_count": null,
   "id": "f0bd4290-dd07-4d7b-8779-46bd74c8ce3a",
   "metadata": {},
   "outputs": [],
   "source": [
    "print(docling_doc.origin)"
   ]
  },
  {
   "cell_type": "markdown",
   "id": "8afefa9b-b34c-4713-ac91-2e4ed65e7e42",
   "metadata": {},
   "source": [
    "2\\. Furniture & Body - The furniture of the document refers to elements like headers and footers, while the body contains most of the document's content. These two properties of Docling Documents are responsible for reflecting the document's structure. Each has a children property, which contains a list of reference pointers to other items in the DoclingDocuments."
   ]
  },
  {
   "cell_type": "code",
   "execution_count": null,
   "id": "8218b391-bcda-42b2-9e75-4f84fece86e3",
   "metadata": {},
   "outputs": [],
   "source": [
    "print(docling_doc.body.children[:10])"
   ]
  },
  {
   "cell_type": "markdown",
   "id": "b1266a3e-fda3-4139-b152-94cf11595cfc",
   "metadata": {},
   "source": [
    "As can be seen, the children property is a list of objects called \"RefItem's,\" each with a property \"cref\" that points to a string. If you open the texts property of the Docling Document JSON and look through the elements, you will notice that these \"cref\" values align with the \"self_ref\" properties of the text items. This elucidates how Docling stores the document structure through references. At a high level, the furniture and body are like a \"table of contents,\" showing how the different elements should be ordered and related. Then, one must go to the actual content, stored in groups, texts, pictures, tables, key_value_items, and form_items, in order to piece together the converted document. \n",
    "\n",
    "In reality, every object has a chidren property; it is just the body and furniture that all children step from. For example, look at item 11 in the children of the body. Its ref is \"#/groups/0,\" and following this to the groups property of the root document reveals an object with more RefItems. Typically, only furniture, body and groups have children with RefItems, but the property exists on all objects.\n",
    "\n",
    "Lastly, it is important to outline exactly how Docling uses RefItems. While as humans, we search through the JSON for matching $ref and self_ref values by comparing the tag (\"#/groups/0\"), Docling Documents parse this tag in a more literal manner. The second value in the tag references the top-level property to access, and the third tag references the element to access. Thus, to access a RefItem, which is implemented through ```RefItem.resolve(doc=document)```, the code is actually accessing the following:\n",
    "\n",
    "```python\n",
    "document.groups[0]\n",
    "```\n",
    "\n",
    "This is important to remember when using other DoclingDocument methods, because it means that the cref and self_ref values are dangerous to tamper with after they have been set by Docling. The following code explores RefItem's further."
   ]
  },
  {
   "cell_type": "code",
   "execution_count": null,
   "id": "6157a547-1032-4fb0-bb13-3d5485c447e2",
   "metadata": {},
   "outputs": [],
   "source": [
    "# Access a RefItem\n",
    "text_ref = docling_doc.body.children[0]\n",
    "\n",
    "print(type(text_ref))"
   ]
  },
  {
   "cell_type": "markdown",
   "id": "3f29756c-fa2a-45d2-af6d-986540448369",
   "metadata": {},
   "source": [
    "<br>\n",
    "\n",
    "```RefItem()``` - Class constructure for RefItem's. Just requires a cref string that should match/point to the item that you are trying to access in a document"
   ]
  },
  {
   "cell_type": "code",
   "execution_count": null,
   "id": "29eea572-7d0f-4a46-a4ed-df8a1cb9cd29",
   "metadata": {},
   "outputs": [],
   "source": [
    "# Create a RefItem\n",
    "new_ref = RefItem(cref=\"#/groups/0\")\n",
    "\n",
    "print(type(new_ref))"
   ]
  },
  {
   "cell_type": "markdown",
   "id": "6adba037-366c-4c6f-86b8-ddabd3537338",
   "metadata": {},
   "source": [
    "<br>\n",
    "\n",
    "```get_ref()``` - Returns the cref value of a RefItem"
   ]
  },
  {
   "cell_type": "code",
   "execution_count": null,
   "id": "ca504a48-1e62-491b-9955-c52c3c1b1199",
   "metadata": {},
   "outputs": [],
   "source": [
    "# Get the cref values\n",
    "\n",
    "print(text_ref.get_ref())\n",
    "print(new_ref.get_ref())"
   ]
  },
  {
   "cell_type": "markdown",
   "id": "b40ecc26-ab87-4eb1-b027-0b16ac8138d6",
   "metadata": {},
   "source": [
    "<br>\n",
    "\n",
    "```resolve()``` - Called off of a RefItem and passed a DoclingDocument. If the RefItem's cref points to an object in the DoclingDocument, that document's NodeItem will be returned. **This is the standard way to go from RefItem's to NodeItem's**"
   ]
  },
  {
   "cell_type": "code",
   "execution_count": null,
   "id": "8431e7b0-d6ce-4daa-bea6-5794fe09d7fa",
   "metadata": {},
   "outputs": [],
   "source": [
    "# **** VERY IMPORTANT ****\n",
    "# Get items in a document from RefItems\n",
    "\n",
    "text_item = text_ref.resolve(docling_doc)\n",
    "group_item = new_ref.resolve(docling_doc)\n",
    "\n",
    "print(type(text_item))\n",
    "print(type(group_item))"
   ]
  },
  {
   "cell_type": "markdown",
   "id": "19e40b7c-e876-4542-a0e1-be49fef9851d",
   "metadata": {},
   "source": [
    "Note that once using ```resolve```, we are able to access items, rather than refs. There are many different types of items defined for Docling Documents that make up the different components of any document. However, they are all based on the ```NodeItem``` object, which has a self_ref (string), parent (optional, RefItem), children (RefItem[]), and content_layer (tag). For our purposes, the content_layer is not very important. Let's explore these properties, as well as the base functions available on a NodeItem."
   ]
  },
  {
   "cell_type": "code",
   "execution_count": null,
   "id": "49d6eb4d-519a-424a-931e-44e6b850bdd3",
   "metadata": {},
   "outputs": [],
   "source": [
    "# The core properties of any NodeItem. These can all be seen in the JSON as well\n",
    "\n",
    "print(text_item.self_ref)\n",
    "print(text_item.parent)\n",
    "print(text_item.children)\n",
    "print(text_item.content_layer)"
   ]
  },
  {
   "cell_type": "markdown",
   "id": "553b73b4-c639-4741-9cb6-c3485be17d13",
   "metadata": {},
   "source": [
    "<br>\n",
    "\n",
    "```get_ref()``` - Returns the RefItem for a NodeItem. **This is the standard way to go from NodeItem's to RefItem's**"
   ]
  },
  {
   "cell_type": "code",
   "execution_count": null,
   "id": "81003905-a237-4bc4-b2a8-acaa9a77bea1",
   "metadata": {},
   "outputs": [],
   "source": [
    "# Get a RefItem for a NodeItem. Reverse of resolve() to go from RefItem to NodeItem\n",
    "\n",
    "text_item.get_ref()"
   ]
  },
  {
   "cell_type": "markdown",
   "id": "6b7001e0-b677-4d90-a985-6beee50e324b",
   "metadata": {},
   "source": [
    "At a high level, these are all of the properties that one needs to know in order to access items within a Docling Document so that they may edit problematic items, delete unecessary parts, and add new ones. However, there are a couple more methods on Docling Documents that may make it easier to access these Node and Ref items."
   ]
  },
  {
   "cell_type": "markdown",
   "id": "39e767ad-bfce-49c1-9936-a5be5fd9ad9b",
   "metadata": {},
   "source": [
    "<br>\n",
    "\n",
    "```iterate_items()``` - A method to traverse all NodeItems in a document. Optional parameters can be set to determine what items are returned:\n",
    "\n",
    "- root (NodeItem): will only traverse the document downwards from a certain root item. If a root is not provided, the document will be traversed from the body downwards\n",
    "- with_groups (bool): if set to True, will include groups in the NodeItems that are returned. Otherwise, it will only include leaf-level NodeItems (the NodeItems within groups, but not the GroupItems themseles). Set to False by default\n",
    "- traverse_pictures (bool): if set to True, will include PictureItems as part of the returned NodeItems. Otherwise, they will be excluded. Set to False by default\n",
    "- page_no (int): if provided, will only yield NodeItems that include the specified page number in their provenance\n",
    "- included_content_layers (set of ContentLayers): if provided, will only yield NodeItems with a content layer that is a member of included_content_layers. If not provided, will default to DEFAULT_CONTENT_LAYERS, which is just the body layer\n",
    "\n",
    "Note that iterate_items() returns an iterable, rather than a list. It is shown below how to convert the iterable into a list. Also, it is not a list of NodeItems that is returned, but rather a list of tuples with NodeItems and their layer, if applicable. To access the node items, get the first element of this tuple."
   ]
  },
  {
   "cell_type": "code",
   "execution_count": null,
   "id": "e2a6fcfd-552f-4a11-88e0-b78808ab3d31",
   "metadata": {},
   "outputs": [],
   "source": [
    "# Default iterate_items behavior\n",
    "\n",
    "default_items = docling_doc.iterate_items()\n",
    "default_items_list = [item for item in default_items]\n",
    "\n",
    "print(\"Default iterate_items() length: \", len(default_items_list))\n",
    "print(\"Group items: \", [item for item in default_items_list if isinstance(item[0], GroupItem)])"
   ]
  },
  {
   "cell_type": "code",
   "execution_count": null,
   "id": "6d717436-b5ff-4c01-941c-34c29b3b68f1",
   "metadata": {},
   "outputs": [],
   "source": [
    "# Include GroupItems\n",
    "\n",
    "with_group_items = docling_doc.iterate_items(with_groups = True)\n",
    "with_group_items_list = [item for item in with_group_items]\n",
    "\n",
    "print(\"Default iterate_items() length: \", len(with_group_items_list))\n",
    "print(\"Group items: \", [item for item in with_group_items_list if isinstance(item[0], GroupItem)])"
   ]
  },
  {
   "cell_type": "markdown",
   "id": "e4d488ad-7bf8-4dea-b08a-9e49b12940c0",
   "metadata": {},
   "source": [
    "In the above output, it can also be seen that the body is defined as a NodeItem that is a GroupItem with a self_ref of \"#/body\" and its own list of children."
   ]
  },
  {
   "cell_type": "code",
   "execution_count": null,
   "id": "1785be6f-e9e6-4a2d-843a-04dee1417549",
   "metadata": {},
   "outputs": [],
   "source": [
    "# Iterate from GroupItems\n",
    "\n",
    "# Get the first LIST group item, which has cref \"#/groups/0\n",
    "\n",
    "group_0_cref = \"#/groups/0\"\n",
    "group_0_ref = RefItem(cref = group_0_cref)\n",
    "group_0_item = group_0_ref.resolve(doc = docling_doc)\n",
    "\n",
    "iterate_from_group = docling_doc.iterate_items(root = group_0_item)\n",
    "iterate_from_group_list = [item for item in iterate_from_group]\n",
    "\n",
    "print(\"From group 0 iterate_items() length: \", len(iterate_from_group_list))\n",
    "print(\"Items: \", iterate_from_group_list)"
   ]
  },
  {
   "cell_type": "markdown",
   "id": "b1208d65-5c71-49ed-91b0-787bfe795f34",
   "metadata": {},
   "source": [
    "<br>\n",
    "\n",
    "While iterating through items can be useful for filtering certain types of items out of the entire document and following all necessary child trees recursively, if you know what part of the document your desired item/items are, you can simply get them by accessing properties on the DoclingDocument object (exactly as outlined in ```01_Advantage_Savings.json```). You will need to use a map to turn the RefItems into NodeItems if that is what is required. This also does not give the layer of the item like iterate_items() does. However, it allows for different freedoms in targeting areas of the document."
   ]
  },
  {
   "cell_type": "code",
   "execution_count": null,
   "id": "4663b39c-7dba-419d-a44d-ed3a5bb1eb60",
   "metadata": {},
   "outputs": [],
   "source": [
    "# Get the children NodeItem objects of group_0, as is done above with iterate_items()\n",
    "\n",
    "group_0 = docling_doc.groups[0]\n",
    "group_0_ref_items = group_0.children\n",
    "group_0_node_items = [ref.resolve(doc = docling_doc) for ref in group_0_ref_items]\n",
    "\n",
    "print(\"Group 0 length: \", len(group_0_ref_items))\n",
    "print(\"Group 0 RefItems: \", group_0_ref_items)\n",
    "print(\"Group 0 NodeItems: \", group_0_node_items)"
   ]
  },
  {
   "cell_type": "markdown",
   "id": "42272fe2-47c1-4a30-ac80-93221461e57f",
   "metadata": {
    "jp-MarkdownHeadingCollapsed": true
   },
   "source": [
    "## \"Safe\" Item Addition\n",
    "\n",
    "The following methods exist on Docling Documents as \"safe\" ways of adding a new NodeItem to a DoclingDocument. I consider these methods as \"safe\" because they ensure that each time a NodeItem is added, it is a separate object from every other NodeItem in the document. Since Docling Documents store NodeItems by reference, if a single NodeItem is uploaded twice to a document, the second auto-generated self_ref will overwrite the first, causing errors in processes like deletion. This will be demonstrated later.\n",
    "\n",
    "**Note:** In the document.py file, there is currently a ##TODO## to \"refactor the add* methods,\" so there may be plans to update the methods below"
   ]
  },
  {
   "cell_type": "markdown",
   "id": "1104a97c-e7b0-40e3-a799-4afb080f21a7",
   "metadata": {},
   "source": [
    "```add_ordered_list()```\n",
    "\n",
    "- name (str): optional (None)\n",
    "- parent (NodeItem): optional (body)\n",
    "- content_layer (ContentLayer): optional (None)"
   ]
  },
  {
   "cell_type": "markdown",
   "id": "750ea848-9b3d-402b-8e79-35876fdc4357",
   "metadata": {},
   "source": [
    "```add_unordered_list()```\n",
    "\n",
    "- name (str): optional (None)\n",
    "- parent (NodeItem): optional (body)\n",
    "- content_layer (ContentLayer): optional (None)"
   ]
  },
  {
   "cell_type": "markdown",
   "id": "eed71684-ee17-4a8d-9412-0cd468405840",
   "metadata": {},
   "source": [
    "```add_inline_group()```\n",
    "\n",
    "- name (str): optional (None)\n",
    "- parent (NodeItem): optional (body)\n",
    "- content_layer (ContentLayer): optional (None)"
   ]
  },
  {
   "cell_type": "markdown",
   "id": "9c72a16a-ca68-4bdf-9947-1553cb06cf8b",
   "metadata": {},
   "source": [
    "```add_group()```\n",
    "\n",
    "- label (GroupLabel): optional (None)\n",
    "- name (str): optional (None)\n",
    "- parent (NodeItem): optional (body)\n",
    "- content_layer (ContentLayer): optional (None)"
   ]
  },
  {
   "cell_type": "markdown",
   "id": "70ae3702-0752-4c81-bf2f-658766e70eb5",
   "metadata": {},
   "source": [
    "```add_list_item()```\n",
    "\n",
    "- text (str)\n",
    "- enumerated (bool): defaults to False\n",
    "- marker (str): optional (\"-\")\n",
    "- orig (str): optional (text)\n",
    "- prov (ProvenanceItem): optional (None)\n",
    "- parent (NodeItem): optional (body)\n",
    "- content_layer (Content_Layer): optional (None)\n",
    "- formatting (Formatting): optional (None)\n",
    "- hyperlink (AnyURL | Path): optional (None)"
   ]
  },
  {
   "cell_type": "markdown",
   "id": "ec4d47ae-351b-4bae-a201-3fbaa6fa6264",
   "metadata": {},
   "source": [
    "```add_text()```\n",
    "\n",
    "- label (DocItemLabel)\n",
    "- text (str)\n",
    "- orig (str): optional (text)\n",
    "- prov (ProvenanceItem): optional (None)\n",
    "- parent (NodeItem): optional (body)\n",
    "- content_layer (Content_Layer): optional (None)\n",
    "- formatting (Formatting): optional (None)\n",
    "- hyperlink (AnyURL | Path): optional (None)"
   ]
  },
  {
   "cell_type": "markdown",
   "id": "12a37380-b320-425a-9aa6-056e537bd776",
   "metadata": {},
   "source": [
    "```add_table()```\n",
    "\n",
    "- data (TableData)\n",
    "- caption (TextItem | RefItem): optional (None)\n",
    "- prov (ProvenanceItem): optional (None)\n",
    "- parent (NodeItem): optional (body)\n",
    "- label (DocItemLabel): defaults to DocItemLabel.TABLE\n",
    "- content_layer (ContentLayer): optional (None)\n",
    "- annotations (TableAnnotationType[]): optional (None)\n",
    "\n",
    "**See** ```docling_error_revision.ipynb``` **for an example of using TableData**"
   ]
  },
  {
   "cell_type": "markdown",
   "id": "a20c026f-1242-44dd-aedc-155b077af6cd",
   "metadata": {},
   "source": [
    "```add_picture()```\n",
    "\n",
    "- annotations (PictureDataType[]): optional (None)  \n",
    "- image (ImageRef): optional (None)  \n",
    "- caption (TextItem | RefItem): optional (None)  \n",
    "- prov (ProvenanceItem): optional (None)  \n",
    "- parent (NodeItem): optional (body)  \n",
    "- content_layer (ContentLayer): optional (None)  "
   ]
  },
  {
   "cell_type": "markdown",
   "id": "fa76aba3-4e89-45c6-841c-089bf7d06ae8",
   "metadata": {},
   "source": [
    "```add_title()```\n",
    "\n",
    "- text (str)  \n",
    "- orig (str): optional (text)  \n",
    "- prov (ProvenanceItem): optional (None)  \n",
    "- parent (NodeItem): optional (body)  \n",
    "- content_layer (ContentLayer): optional (None)  \n",
    "- formatting (Formatting): optional (None)  \n",
    "- hyperlink (AnyUrl | Path): optional (None)  "
   ]
  },
  {
   "cell_type": "markdown",
   "id": "42400d76-abbc-40df-974e-2a443af597e6",
   "metadata": {},
   "source": [
    "`add_code()`\n",
    "\n",
    "- text (str)  \n",
    "- code_language (CodeLanguageLabel): optional (None)  \n",
    "- orig (str): optional (text)  \n",
    "- caption (TextItem | RefItem): optional (None)  \n",
    "- prov (ProvenanceItem): optional (None)  \n",
    "- parent (NodeItem): optional (body)  \n",
    "- content_layer (ContentLayer): optional (None)  \n",
    "- formatting (Formatting): optional (None)  \n",
    "- hyperlink (AnyUrl | Path): optional (None)  "
   ]
  },
  {
   "cell_type": "markdown",
   "id": "a5364833-bf99-4c4b-8e45-885fa3d7298d",
   "metadata": {},
   "source": [
    "```add_formula()```\n",
    "\n",
    "- text (str)  \n",
    "- orig (str): optional (text)  \n",
    "- prov (ProvenanceItem): optional (None)  \n",
    "- parent (NodeItem): optional (body)  \n",
    "- content_layer (ContentLayer): optional (None)  \n",
    "- formatting (Formatting): optional (None)  \n",
    "- hyperlink (AnyUrl | Path): optional (None) "
   ]
  },
  {
   "cell_type": "markdown",
   "id": "8b31a141-9aed-4134-8181-d700a9f9ad13",
   "metadata": {},
   "source": [
    "```add_heading()```\n",
    "\n",
    "- text (str)  \n",
    "- orig (str): optional (text)  \n",
    "- level (LevelNumber): optional (1)  \n",
    "- prov (ProvenanceItem): optional (None)  \n",
    "- parent (NodeItem): optional (body)  \n",
    "- content_layer (ContentLayer): optional (None)  \n",
    "- formatting (Formatting): optional (None)  \n",
    "- hyperlink (AnyUrl | Path): optional (None) "
   ]
  },
  {
   "cell_type": "markdown",
   "id": "006dea29-3cf9-493c-8d30-4347a64039c7",
   "metadata": {},
   "source": [
    "```add_key_values()```\n",
    "\n",
    "- graph (GraphData)  \n",
    "- prov (ProvenanceItem): optional (None)  \n",
    "- parent (NodeItem): optional (body)  "
   ]
  },
  {
   "cell_type": "markdown",
   "id": "519ddf95-9ef6-4130-9c62-6ad30312bbec",
   "metadata": {},
   "source": [
    "```add_form()```\n",
    "\n",
    "- graph (GraphData)  \n",
    "- prov (ProvenanceItem): optional (None)  \n",
    "- parent (NodeItem): optional (body)  "
   ]
  },
  {
   "cell_type": "markdown",
   "id": "42e04d86-3b0e-4260-af1b-efd6a8720aed",
   "metadata": {},
   "source": [
    "There are too many methods to show implementations for all of them, so I will demonstrate the simple example of adding a list item to group 0:"
   ]
  },
  {
   "cell_type": "code",
   "execution_count": null,
   "id": "5910f5e5-3264-4f15-8b93-d2f009ff7c93",
   "metadata": {},
   "outputs": [],
   "source": [
    "new_list_item = docling_doc.add_list_item(\n",
    "    text=\"This is an item to add onto the end of the list\",\n",
    "    parent=docling_doc.groups[0]\n",
    ")\n",
    "\n",
    "JSON_FILENAME = \"files/json/extra-list-item-\" + docling_doc.name + \".json\"\n",
    "docling_doc.save_as_json(JSON_FILENAME)\n",
    "\n",
    "print(new_list_item)"
   ]
  },
  {
   "cell_type": "markdown",
   "id": "8159041d-9576-4610-be69-5d73b38fcd43",
   "metadata": {},
   "source": [
    "Check the save JSON file, and you should also be able to observe the change. Note that, when using these \"safe\" functions, there is no way to control where inside of a parent element the new item will go. It can only ever be appended to the end of its parent's children. Functionality for inserting elements behind/in front of siblings is only provided with unsafe methods, as will be shown below. **Thus, a potential next step could be to contribute this extended \"safe\" Docling Document add functionality to docling-core.**"
   ]
  },
  {
   "cell_type": "markdown",
   "id": "36b55c1a-b56f-4e39-a2ab-56ad87611d70",
   "metadata": {
    "jp-MarkdownHeadingCollapsed": true
   },
   "source": [
    "## \"Unsafe\" Item Addition & Item Deletion/Replacement"
   ]
  },
  {
   "cell_type": "markdown",
   "id": "14d56251-4a40-43c4-96c9-81d1de3bdfbd",
   "metadata": {},
   "source": [
    "**\"Unsafe\" Item Addition:** The following three methods I consider \"unsafe\" because they require as a parameter the full item object that is to be added. If used incorrectly (as I will show), they can cause unintended behavior. However, they are very useful in the functionality that they provide to more flexibly insert items into different places within the document."
   ]
  },
  {
   "cell_type": "markdown",
   "id": "79a50e98-97b7-49f0-a3a1-69f4475f49a5",
   "metadata": {},
   "source": [
    "<br>\n",
    "\n",
    "```append_child_item()``` - This has a functionality very similar to the \"safe\" item addition methods in that it appends an item to the end of a list of children based on a parent NodeItem. However, a NodeItem is passed for the value of this child item, rather than multiple individual parameters. \n",
    "\n",
    "Note that the function edits parts of the NodeItem, such as the self_ref, after it is passed, so you do not neeed to worry about setting appropriate ref values. Your values just need to pass the initial regex check in the format \"#/{text}/{number}, and then they will be reassigned.\n",
    "\n",
    "To demonstrate the unsafe editing methods (as well as deletion/update methods), I will continue to use list items added to the first group."
   ]
  },
  {
   "cell_type": "code",
   "execution_count": null,
   "id": "f8f33100-0ef0-487e-9fb7-6275ff9d11ee",
   "metadata": {},
   "outputs": [],
   "source": [
    "# Instantiate a list item\n",
    "\n",
    "text = \"This will appear at the end of the list\"\n",
    "to_append = ListItem(self_ref = \"#/new_text/0\", orig = text, text = text)\n",
    "\n",
    "# Get the parent item\n",
    "\n",
    "parent = docling_doc.groups[0]\n",
    "\n",
    "# Append item\n",
    "\n",
    "docling_doc.append_child_item(child=to_append, parent=parent)\n",
    "\n",
    "print(docling_doc.groups[0].children)"
   ]
  },
  {
   "cell_type": "markdown",
   "id": "f23d9f04-a652-4f3a-bdbb-df7facd5ffb3",
   "metadata": {},
   "source": [
    "<br>\n",
    "\n",
    "```insert_item_after_sibling()``` - This function also adds an item to a document, but instead of adding it to the end of a list of children, it places it based on the location of another NodeRef in the document: on the same level (a child of the same parent) and one position after."
   ]
  },
  {
   "cell_type": "code",
   "execution_count": null,
   "id": "c00593f9-bc1a-405c-a32e-f1c02a6b3b47",
   "metadata": {},
   "outputs": [],
   "source": [
    "# Instantiate a list item\n",
    "\n",
    "text = \"This will be inserted as the third element of the list\"\n",
    "to_insert_after = ListItem(self_ref = \"#/new_text/0\", orig = text, text = text)\n",
    "\n",
    "# Get the sibling item (second item in the list)\n",
    "\n",
    "sibling_ref = docling_doc.groups[0].children[1]\n",
    "sibling_item = sibling_ref.resolve(doc = docling_doc)\n",
    "\n",
    "# Insert item after sibling\n",
    "\n",
    "docling_doc.insert_item_after_sibling(new_item=to_insert_after, sibling = sibling_item)\n",
    "\n",
    "print(docling_doc.groups[0].children)"
   ]
  },
  {
   "cell_type": "markdown",
   "id": "d98721cb-c63b-416e-a868-da38b416fffc",
   "metadata": {},
   "source": [
    "<br>\n",
    "\n",
    "```insert_item_before_sibling()``` - This function is the same as insert_item_after_sibling, but just places the new object in front of the old object, rather than behind."
   ]
  },
  {
   "cell_type": "code",
   "execution_count": null,
   "id": "48727d86-6e57-4d03-96be-3b627d03a824",
   "metadata": {},
   "outputs": [],
   "source": [
    "# Instantiate a list item\n",
    "\n",
    "text = \"This is the first item!!\"\n",
    "to_insert_after = ListItem(self_ref = \"#/new_text/0\", orig = text, text = text)\n",
    "\n",
    "# Get the sibling item (first item in the list)\n",
    "\n",
    "sibling_ref = docling_doc.groups[0].children[0]\n",
    "sibling_item = sibling_ref.resolve(doc = docling_doc)\n",
    "\n",
    "# Insert item after sibling\n",
    "\n",
    "docling_doc.insert_item_before_sibling(new_item=to_insert_after, sibling = sibling_item)\n",
    "\n",
    "print(docling_doc.groups[0].children)"
   ]
  },
  {
   "cell_type": "markdown",
   "id": "cb367e13-f227-43e1-8826-4b49380564db",
   "metadata": {},
   "source": [
    "As can be seen, the \"Unsafe Item Addition\" methods are fairly robust compared to the standard add* methods explored above. Especially in the use case of editing Docling Documents after conversion, it is very likely that elements will need to be placed within children lists rather than at the ends of them."
   ]
  },
  {
   "cell_type": "markdown",
   "id": "83a5a6e6-0fec-4cb8-82f0-a66434b86e34",
   "metadata": {},
   "source": [
    "**Removing Elements**: Removing items from a Docling Document is fairly simple: all that needs to be done is pass the NodeItems of the elements to be removed, and the reassignment of the self_ref strings will be done automatically. Note that when deleting items, RefItems are used internally that are created from the self_ref string of the NodeItem. Thus, if two NodeItems have the same self_ref string, it can cause unintended effects in deletion."
   ]
  },
  {
   "cell_type": "markdown",
   "id": "d8d9f215-702e-4d83-8443-ab9d5b47dabe",
   "metadata": {},
   "source": [
    "<br>\n",
    "\n",
    "```delete_items()``` - Takes in a list of NodeItems and removes them from the document, automatically updating the self_ref values of all other elements to make sure they are sequential"
   ]
  },
  {
   "cell_type": "code",
   "execution_count": null,
   "id": "373e2c1b-b2bc-47b4-b903-457adbd776d6",
   "metadata": {},
   "outputs": [],
   "source": [
    "# Remove the 2nd and 6th items in the group from above\n",
    "\n",
    "print(\"Group before:\", docling_doc.groups[0].children)\n",
    "\n",
    "# Get NodeItems to remove\n",
    "\n",
    "to_remove = [docling_doc.groups[0].children[i] for i in [1, 5]]\n",
    "\n",
    "print(\"To remove:\", to_remove)\n",
    "\n",
    "docling_doc.delete_items(node_items = to_remove)\n",
    "\n",
    "print(\"Group after:\", docling_doc.groups[0].children)"
   ]
  },
  {
   "cell_type": "markdown",
   "id": "56b7d6ab-0b61-4063-b776-4cbe66e87315",
   "metadata": {},
   "source": [
    "Notice how, when the two elements are removed, all other cref values update. This is done for the purpose of the ```RefItem.resolve()``` method, as it finds items based on their index (stripped from the cref), rather than matching the cref with one in the document. This means that when items are removed from the \"texts\" of the document, all other items must have their cref's updated to ensure that the cref points to the new location in the \"texts\" list that the item is now in. **This can be problematic** because it means that there is no persistent identifier of a NodeItem. If a user was to edit a Docling Document, we would need to take care to ensure that the cref values are updated elsewhere that we want to track the provency of NodeItems, such as in chunking and SDG, or contribute a permanent identifier to NodeItems within the Docling Document datatype."
   ]
  },
  {
   "cell_type": "markdown",
   "id": "82e5560d-ae5f-4622-a950-90214d55dfe1",
   "metadata": {},
   "source": [
    "**\"Unsafe\" Demonstration**: Now that the ```delete_items()``` method has been introduced, I will quickly show one possible issue that arises from the unsafe item addition methods. Essentially, since removing items is done by passing NodeRefs, and NodeRefs are passed through the unsafe methods by reference, if the same NodeRef gets added twice to a document, the two instances will forever be coupled in cref, updates, and deletion."
   ]
  },
  {
   "cell_type": "code",
   "execution_count": null,
   "id": "09858367-414c-4e6a-a4a2-65acff0490cf",
   "metadata": {},
   "outputs": [],
   "source": [
    "# Load a fresh docling_doc\n",
    "\n",
    "example_doc = DoclingDocument.load_from_json(filename=\"files/json/01_Advantage_Savings.json\")\n",
    "\n",
    "# Instantiate a List Item\n",
    "\n",
    "text = \"This bullet is repeated in the document\"\n",
    "repeated = ListItem(self_ref = \"#/new_text/0\", orig = text, text = text)\n",
    "\n",
    "# Get the parent group\n",
    "\n",
    "parent = example_doc.groups[0]\n",
    "\n",
    "# Add the List Item twice\n",
    "\n",
    "example_doc.append_child_item(child=repeated, parent=parent)\n",
    "example_doc.append_child_item(child=repeated, parent=parent)\n",
    "\n",
    "print(example_doc.groups[0])"
   ]
  },
  {
   "cell_type": "markdown",
   "id": "cff8f364-2e81-4d4c-8822-d75083f5e33e",
   "metadata": {},
   "source": [
    "Now let's say that we give this document to someone who doesn't know that the same NodeItem was added twice to the document. From the view above, it seems like there are no duplicates, since the RefItem is instantiated from the self_ref of the NodeItem at the moment that it is added to the document. In reality though, the RefItems are linked and point to the same NodeItem. To demonstrate the odd nature of this, let's model our second programmer attempting to remove the last item from this group."
   ]
  },
  {
   "cell_type": "code",
   "execution_count": null,
   "id": "9224deb4-fd2a-48cc-a803-60b803a4f84c",
   "metadata": {},
   "outputs": [],
   "source": [
    "# Save the current document\n",
    "\n",
    "example_doc.save_as_json(filename=\"files/json/unsafe-01.json\")"
   ]
  },
  {
   "cell_type": "code",
   "execution_count": null,
   "id": "00cb818f-46eb-4daf-8045-85a772b24220",
   "metadata": {},
   "outputs": [],
   "source": [
    "# Get the NodeItem of the last element in group_0 using resolve()\n",
    "\n",
    "last_ref = example_doc.groups[0].children[-1]\n",
    "last_item = last_ref.resolve(doc = example_doc)\n",
    "\n",
    "print(last_item)"
   ]
  },
  {
   "cell_type": "code",
   "execution_count": null,
   "id": "a2bae8c8-9bbf-4348-a564-1fa39705abf4",
   "metadata": {},
   "outputs": [],
   "source": [
    "# Remove ONLY this last Node Item\n",
    "\n",
    "example_doc.delete_items(node_items = [last_item])\n",
    "\n",
    "print(example_doc.groups[0])"
   ]
  },
  {
   "cell_type": "markdown",
   "id": "a145af34-de0a-484c-aca8-fb9f73d37532",
   "metadata": {},
   "source": [
    "As you can now see, we attempted to just remove the last item from the group, but we instead removed both duplicate items that were at the end of the list. This is because, since the items pointed to the same object, they had the same self_ref, so the deletion method (based on self_ref) removed both pointers. Look in the saved ```unsafe-01.json``` and you will see that these two items (texts 39 and 40) had the same self_ref. **This inadvertent entanglement of NodeItems and mismatch between RefItems and self_refs is what makes the \"unsafe methods\" unsafe.** To remedy this, we could consider implementing more advanced insertion behavior to complement the safe addition methods, as these methods guarantee that a new NodeItem is created every time. Alternatively, if this odd behavior is not exposed to users and we are conscious of it, we could just ensure that we never duplicate NodeItems and avoid this issue."
   ]
  },
  {
   "cell_type": "markdown",
   "id": "ac89e2ba-742a-4705-b833-a238d703d445",
   "metadata": {},
   "source": [
    "**Replacing Items**: Lastly, there is a method that implements both delete and insert in order to replace an old NodeItem with a new one. This seems to be one of the most useful methods for editing Docling Documents, although since the NodeItems are passed by reference, we can also just change their properties to make similar edits (as long as the type of NodeItem does not need to be changed)"
   ]
  },
  {
   "cell_type": "markdown",
   "id": "7fbbebf1-95c1-492f-8704-32ba7d3b4eb4",
   "metadata": {},
   "source": [
    "<br>\n",
    "\n",
    "```replace_item()``` - Takes a new_item and old_item, replacing the old_item in the document with the new_item.\n",
    "\n",
    "Let's say that I wanted to replace the entire group_0 with a single text item. This can be done by replacing items."
   ]
  },
  {
   "cell_type": "code",
   "execution_count": null,
   "id": "514e40aa-6862-4bcf-a4f3-d2cad95f8f10",
   "metadata": {},
   "outputs": [],
   "source": [
    "# Load a new document\n",
    "\n",
    "replace_doc = DoclingDocument.load_from_json(filename=\"files/json/01_Advantage_Savings.json\")\n",
    "\n",
    "# Access the first group\n",
    "\n",
    "old = replace_doc.groups[0]\n",
    "\n",
    "# Create a text item to replace it with\n",
    "\n",
    "text = \"Group 0 was here\"\n",
    "label = DocItemLabel.TEXT\n",
    "\n",
    "new = TextItem(text=text, orig=text, label=label, self_ref=\"#/new_texts/0\")\n",
    "\n",
    "replace_doc.replace_item(old_item=old, new_item=new)\n",
    "\n",
    "print(replace_doc.export_to_markdown()[450:800])"
   ]
  },
  {
   "cell_type": "markdown",
   "id": "1a3c9f6a-607e-4e30-b138-73f58409a9ac",
   "metadata": {},
   "source": [
    "As can be seen, we successfully replaced the group item with a text item. For more practical demonstrations of fixing Docling Documents with these tools, see the ```docling_error_revision.ipynb``` notebook."
   ]
  }
 ],
 "metadata": {
  "kernelspec": {
   "display_name": "Python 3 (ipykernel)",
   "language": "python",
   "name": "python3"
  },
  "language_info": {
   "codemirror_mode": {
    "name": "ipython",
    "version": 3
   },
   "file_extension": ".py",
   "mimetype": "text/x-python",
   "name": "python",
   "nbconvert_exporter": "python",
   "pygments_lexer": "ipython3",
   "version": "3.12.7"
  }
 },
 "nbformat": 4,
 "nbformat_minor": 5
}
