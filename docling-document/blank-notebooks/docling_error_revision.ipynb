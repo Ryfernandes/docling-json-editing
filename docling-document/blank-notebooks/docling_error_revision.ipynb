{
 "cells": [
  {
   "cell_type": "markdown",
   "id": "b13d726d-78df-4324-b7be-84371bbd47fe",
   "metadata": {},
   "source": [
    "# Revising Docling Errors\n",
    "\n",
    "The examples below demonstrate a couple of known misconversions that we have encountered and investigates/fixes them with the methods available on Docling Documents\n",
    "\n",
    "----"
   ]
  },
  {
   "cell_type": "markdown",
   "id": "5f6f8e38-53d7-45bd-8334-34b0532c2446",
   "metadata": {
    "jp-MarkdownHeadingCollapsed": true
   },
   "source": [
    "## Imports"
   ]
  },
  {
   "cell_type": "code",
   "execution_count": null,
   "id": "28238717-dd94-49d5-8ebf-2597535ac2f7",
   "metadata": {},
   "outputs": [],
   "source": [
    "!pip install -q docling"
   ]
  },
  {
   "cell_type": "code",
   "execution_count": null,
   "id": "d35d011a-2f42-4c41-80a0-1437d5ee70f4",
   "metadata": {},
   "outputs": [],
   "source": [
    "import re\n",
    "\n",
    "from docling.document_converter import DocumentConverter\n",
    "from docling_core.types.doc.document import (\n",
    "    DoclingDocument,\n",
    "    RefItem,\n",
    "    TableCell\n",
    ")"
   ]
  },
  {
   "cell_type": "markdown",
   "id": "8b82568b-041e-4daf-af49-6471516592a7",
   "metadata": {
    "jp-MarkdownHeadingCollapsed": true
   },
   "source": [
    "## BofA 01\n",
    "\n",
    "The first BofA document that was provided in the PoC: ```01_Advantage_Savings.pdf```"
   ]
  },
  {
   "cell_type": "markdown",
   "id": "20c6c8e8-4592-4b13-9da9-c5f714d1bca0",
   "metadata": {},
   "source": [
    "First, I will convert the file and export it to markdown to check the conversion"
   ]
  },
  {
   "cell_type": "code",
   "execution_count": null,
   "id": "8ccb19d0-5038-4120-9950-bf63a8e84eb3",
   "metadata": {},
   "outputs": [],
   "source": [
    "FILE_SOURCE = 'files/pdf/01_Advantage_Savings.pdf'\n",
    "\n",
    "converter = DocumentConverter()\n",
    "result = converter.convert(FILE_SOURCE)\n",
    "\n",
    "doc_1 = result.document\n",
    "\n",
    "print(doc_1.export_to_markdown())"
   ]
  },
  {
   "cell_type": "markdown",
   "id": "6c189e6f-9090-49e1-aed4-6e1b0e6bda91",
   "metadata": {},
   "source": [
    "There are a fair number of imperfections with this conversion, but the one that I will focus on for this example is at the bottom of the document. Notice how the \"Keep the Change\" section header had gotten split from its body text by the table. Additionally, it appears that a large chunk of text from the start of the description for this section has become mixed up. These two issues should be easy to fix."
   ]
  },
  {
   "cell_type": "markdown",
   "id": "8e52ec09-2de6-4d16-be63-9d20b820a05f",
   "metadata": {},
   "source": [
    "To re-order the section header and table, I will find the RefItems of both in the body of the document and simply reverse their positions."
   ]
  },
  {
   "cell_type": "code",
   "execution_count": null,
   "id": "95da5c3b-2816-4bab-8adc-e8a046a6f95b",
   "metadata": {},
   "outputs": [],
   "source": [
    "# Save the document to JSON for inspection\n",
    "\n",
    "doc_1.save_as_json(filename = \"files/json/01_converted.json\")"
   ]
  },
  {
   "cell_type": "markdown",
   "id": "310e1f6b-f2bd-4667-a184-ee2591e73eac",
   "metadata": {},
   "source": [
    "From inspection of the JSON, the self_ref of the misplaced header is \"#/texts/35\", the jumbled text is \"#/texts/36,\" and the self_ref of the table is \"#/tables/0.\" All are children of the body, which makes our job easier. Here are the steps we will take:\n",
    "\n",
    "- Create RefItems with the self_ref values and use resolve() to get the NodeItems of these elements\n",
    "- Find the indexes of the misordered NodeItems in the body of the document\n",
    "- Switch the position of the NodeItems using their indexes\n",
    "- Change the text property of the jumbled description"
   ]
  },
  {
   "cell_type": "code",
   "execution_count": null,
   "id": "a36576fd-009d-4e88-acca-134b33c73885",
   "metadata": {},
   "outputs": [],
   "source": [
    "# Create RefItems and access NodeItems\n",
    "\n",
    "text_ref = RefItem(cref=\"#/texts/35\")\n",
    "table_ref = RefItem(cref=\"#/tables/0\")\n",
    "\n",
    "text_item = text_ref.resolve(doc=doc_1)\n",
    "table_item = table_ref.resolve(doc=doc_1)\n",
    "\n",
    "print(\"Text Item Parent: \", text_item.parent)\n",
    "print(\"Table Item Parent: \", table_item.parent)"
   ]
  },
  {
   "cell_type": "code",
   "execution_count": null,
   "id": "b72e1e7d-b3c3-4e6e-acbd-62bed4a2fe37",
   "metadata": {},
   "outputs": [],
   "source": [
    "# Get the parent items\n",
    "\n",
    "text_parent = text_item.parent.resolve(doc=doc_1)\n",
    "table_parent = table_item.parent.resolve(doc=doc_1)\n",
    "\n",
    "# Get the indexes of each item\n",
    "\n",
    "text_index = text_parent.children.index(text_item.get_ref())\n",
    "table_index = table_parent.children.index(table_item.get_ref())\n",
    "\n",
    "print(\"Text index: \", text_index)\n",
    "print(\"Table index: \", table_index)"
   ]
  },
  {
   "cell_type": "code",
   "execution_count": null,
   "id": "d85a49e6-db61-49b3-b5b5-3ee489b4d27f",
   "metadata": {},
   "outputs": [],
   "source": [
    "# Switch the values at the two indexes/parents\n",
    "\n",
    "text_parent.children[text_index] = table_item.get_ref()\n",
    "table_parent.children[table_index] = text_item.get_ref()\n",
    "\n",
    "# Visualize the new document\n",
    "\n",
    "print(doc_1.export_to_markdown())"
   ]
  },
  {
   "cell_type": "markdown",
   "id": "1600a183-8839-4cc3-be13-50d5e535ff14",
   "metadata": {},
   "source": [
    "As can be seen, the elements have flipped in position, and the section header now appears in the correct location, above the body text. Lastly, let's change the text property of the jumbled text by just copy-pasting the correct text from the PDF."
   ]
  },
  {
   "cell_type": "code",
   "execution_count": null,
   "id": "93a75717-a4f4-48a8-8260-a3790499358a",
   "metadata": {},
   "outputs": [],
   "source": [
    "# Get the jumbled node item\n",
    "\n",
    "jumbled_ref = RefItem(cref=\"#/texts/36\")\n",
    "jumbled_item = jumbled_ref.resolve(doc=doc_1)\n",
    "\n",
    "# Correct text from the PDF\n",
    "\n",
    "correct_text = \"Build your savings automatically when you enroll in our Keep the Change savings program. Simply make everyday purchases with your Bank of America debit card, and we’ll round up your purchases to the nearest dollar amount and transfer the difference from your checking account to your savings account.\"\n",
    "\n",
    "# Update the text property of the jumbled item\n",
    "# The original text is still stored in the jumbled_item.orig property, which can help with provenance\n",
    "\n",
    "jumbled_item.text= correct_text\n",
    "\n",
    "# Visualize the new document\n",
    "\n",
    "print(doc_1.export_to_markdown())"
   ]
  },
  {
   "cell_type": "markdown",
   "id": "3e6f9328-f0b5-4fce-8bed-f6fdcebf1cec",
   "metadata": {},
   "source": [
    "Now, **the desired part of the document has been fixed**. Let's save the updated JSON."
   ]
  },
  {
   "cell_type": "code",
   "execution_count": null,
   "id": "848fc343-a045-475f-a02f-72f4531209e3",
   "metadata": {},
   "outputs": [],
   "source": [
    "doc_1.save_as_json(filename = \"files/json/01_fixed.json\")"
   ]
  },
  {
   "cell_type": "markdown",
   "id": "9090ed17-9ab6-4fe9-8db4-028c095ab9b5",
   "metadata": {
    "jp-MarkdownHeadingCollapsed": true
   },
   "source": [
    "## BofA 02"
   ]
  },
  {
   "cell_type": "markdown",
   "id": "97834041-ef2b-4eb7-94b4-fe6acec76697",
   "metadata": {},
   "source": [
    "The second BofA document that was provided in the PoC: ```02_BofA_CoreChecking_en_ADA.pdf```"
   ]
  },
  {
   "cell_type": "markdown",
   "id": "6c32bf22-dfb1-43f7-af54-32afcbadb5ae",
   "metadata": {},
   "source": [
    "First, I will convert the file and export it to markdown to check the conversion"
   ]
  },
  {
   "cell_type": "code",
   "execution_count": null,
   "id": "0ef1d78d-d894-4fa3-b299-3437f10f9658",
   "metadata": {},
   "outputs": [],
   "source": [
    "FILE_SOURCE = 'files/pdf/02_BofA_CoreChecking_en_ADA.pdf'\n",
    "\n",
    "converter = DocumentConverter()\n",
    "result = converter.convert(FILE_SOURCE)\n",
    "\n",
    "doc_2 = result.document\n",
    "\n",
    "print(doc_2.export_to_markdown())"
   ]
  },
  {
   "cell_type": "markdown",
   "id": "7c4e0e8f-1c9e-447c-a563-11c599ea7e05",
   "metadata": {},
   "source": [
    "In this document, there are two major issues that I will address/explore. First of all, there is the $45.00 row outside of the \"Additional fees\" table. Additionally, there is an excluded table between Option 1 and Option 2 in the \"Overdraft settings and fees section.\""
   ]
  },
  {
   "cell_type": "code",
   "execution_count": null,
   "id": "60372737-a04b-45d8-9a06-eb7cf428832e",
   "metadata": {},
   "outputs": [],
   "source": [
    "# Save the document to JSON for inspection\n",
    "\n",
    "doc_2.save_as_json(filename = \"files/json/02_converted.json\")"
   ]
  },
  {
   "cell_type": "markdown",
   "id": "280feb4d-f3a3-4391-9b80-d0f23f474f97",
   "metadata": {},
   "source": [
    "**\\#1: Fix the additional fees table**\n",
    "\n",
    "From inspecting the JSON, it appears that the self_ref of the items of interest are:\n",
    "\n",
    "- Table: \"#/tables/2\"\n",
    "- Texts to go in table: \"#/texts/32-37\""
   ]
  },
  {
   "cell_type": "code",
   "execution_count": null,
   "id": "f75e5fb2-3931-4924-b9b5-f1f1fe2bc8ef",
   "metadata": {},
   "outputs": [],
   "source": [
    "# Get the table item\n",
    "\n",
    "table_ref = RefItem(cref=\"#/tables/2\")\n",
    "table_item = table_ref.resolve(doc=doc_2)\n",
    "\n",
    "# Get the text items\n",
    "\n",
    "text_refs = [RefItem(cref=f\"#/texts/{i}\") for i in range(32, 38)]\n",
    "text_items = [ref.resolve(doc=doc_2) for ref in text_refs]\n",
    "\n",
    "# Print text items for reference\n",
    "\n",
    "for idx, item in enumerate(text_items):\n",
    "    print(f\"{idx}: {item.text}\")"
   ]
  },
  {
   "cell_type": "markdown",
   "id": "6e1e955a-21ba-4093-bc5e-87a3e6446d45",
   "metadata": {},
   "source": [
    "Now that we have the text saved that needs to go into the table, let's remove the text items themselves from the document."
   ]
  },
  {
   "cell_type": "code",
   "execution_count": null,
   "id": "72084153-3a55-4283-b262-3cfdbb6fbf53",
   "metadata": {},
   "outputs": [],
   "source": [
    "# Delete the text items\n",
    "\n",
    "doc_2.delete_items(node_items=text_items)"
   ]
  },
  {
   "cell_type": "markdown",
   "id": "b4a4f8b9-0ef8-4a86-b795-b8c2dc0312b5",
   "metadata": {},
   "source": [
    "Finally, let's add a few rows to the table"
   ]
  },
  {
   "cell_type": "code",
   "execution_count": null,
   "id": "128ba002-12b0-46fd-9b6d-1f40dfa87186",
   "metadata": {},
   "outputs": [],
   "source": [
    "# Access the data property of the table\n",
    "\n",
    "table_data = table_item.data"
   ]
  },
  {
   "cell_type": "code",
   "execution_count": null,
   "id": "8db79d5a-f1eb-4f42-a109-6062e2ed538e",
   "metadata": {},
   "outputs": [],
   "source": [
    "# Save the previous number of rows\n",
    "\n",
    "prev_rows = table_data.num_rows\n",
    "\n",
    "# Add the three rows necessary to fit our new data\n",
    "\n",
    "table_data.num_rows += 3"
   ]
  },
  {
   "cell_type": "markdown",
   "id": "088a2da8-b7f5-49de-9340-e81482da439a",
   "metadata": {},
   "source": [
    "We need to now append table cells to the table_cells property of the table data to fill in our new rows. To do this in a streamlined manner, I will set up the text that needs to be added to each cell in a 2d array."
   ]
  },
  {
   "cell_type": "code",
   "execution_count": null,
   "id": "9fe102f2-c453-46e7-9813-9a7201ae42ea",
   "metadata": {},
   "outputs": [],
   "source": [
    "table_text = [\n",
    "    [\"International wire transfers\", text_items[0].text, text_items[1].text],\n",
    "    [\"International wire transfers\", \"\", text_items[2].text],\n",
    "    [f\"{text_items[3].text} {text_items[4].text}\", \"\", text_items[5].text]\n",
    "]"
   ]
  },
  {
   "cell_type": "markdown",
   "id": "e029f058-6789-4f2c-990b-b9c9e7e80432",
   "metadata": {},
   "source": [
    "Now, I will instantiate table cells and add them to the table"
   ]
  },
  {
   "cell_type": "code",
   "execution_count": null,
   "id": "30bc3cc0-a02c-411d-9d78-3f3a9bee1b9e",
   "metadata": {},
   "outputs": [],
   "source": [
    "# Iterate through table cells and add them to the document\n",
    "\n",
    "for i, row in enumerate(table_text):\n",
    "    for j, text in enumerate(row):\n",
    "        table_data.table_cells.append(\n",
    "            TableCell(\n",
    "                row_span = 1,\n",
    "                col_span = 1,\n",
    "                start_row_offset_idx = prev_rows + i,\n",
    "                end_row_offset_idx = prev_rows + i + 1,\n",
    "                start_col_offset_idx = j,\n",
    "                end_col_offset_idx = j + 1,\n",
    "                text = text\n",
    "            )\n",
    "        )"
   ]
  },
  {
   "cell_type": "code",
   "execution_count": null,
   "id": "d4407be6-943e-4c82-b643-6d2b569eca25",
   "metadata": {},
   "outputs": [],
   "source": [
    "# Save the updated JSON\n",
    "\n",
    "doc_2.save_as_json(filename = \"files/json/02_fixed.json\")\n",
    "\n",
    "# Visualize the new document\n",
    "\n",
    "print(doc_2.export_to_markdown())"
   ]
  },
  {
   "cell_type": "markdown",
   "id": "2826591a-8926-434e-a62b-c45e1b3afd25",
   "metadata": {},
   "source": [
    "As can be seen, **the table is now formatted exactly as we would like it to be, and the extra text has been removed.**"
   ]
  },
  {
   "cell_type": "markdown",
   "id": "5199d18e-596c-4a94-a59f-9fa81d9738cb",
   "metadata": {},
   "source": [
    "**\\#2: Inspect the missing table**"
   ]
  },
  {
   "cell_type": "markdown",
   "id": "7f5d9be6-9ad4-4942-8180-4e8db56631f7",
   "metadata": {},
   "source": [
    "Upon inspecting the JSON, it appears that the table between option 1 and option 2 does appear in the Docling Document and is fomatted exactly as expected. It is also referenced correctly as the 11th index of the body pointing to \"#/tables/1\". **Thus, this appears to be an issue with the Markdown transformer, rather than the document conversion process.** The nature and source of this issue are deserving of their own investigation, but I will demonstrate below how we can use the Docling Document data to detect omissions like this in the Markdown."
   ]
  },
  {
   "cell_type": "code",
   "execution_count": null,
   "id": "8dd6983c-9358-4f08-9014-3fe26f128d5c",
   "metadata": {},
   "outputs": [],
   "source": [
    "# Get the markdown text\n",
    "\n",
    "markdown = doc_2.export_to_markdown()\n",
    "\n",
    "# Get the raw text from the DocTags representation of the Docling Document\n",
    "\n",
    "doctags = doc_2.export_to_doctags()\n",
    "raw_text = re.sub(r\"<.*?>\", \"\", doctags, flags=re.DOTALL).strip()"
   ]
  },
  {
   "cell_type": "code",
   "execution_count": null,
   "id": "43dd6d76-fc32-4d02-a9f1-25ed1548c2e4",
   "metadata": {},
   "outputs": [],
   "source": [
    "# Compare the non-overlapping elements that exist in the markdown text and the raw text\n",
    "\n",
    "from collections import Counter\n",
    "\n",
    "# The methodology of this function can be refined a lot more depending on our use case\n",
    "# This is a quick mock up that I made in a few prompts with GenAI\n",
    "\n",
    "def remove_overlaps_preserving_order(a, b):\n",
    "    count_a = Counter(a)\n",
    "    count_b = Counter(b)\n",
    "    \n",
    "    overlap = {item: min(count_a[item], count_b[item]) for item in count_a & count_b}\n",
    "    \n",
    "    def filter_list(lst, keep_counts):\n",
    "        seen = Counter()\n",
    "        result = []\n",
    "        for item in lst:\n",
    "            if item in keep_counts:\n",
    "                if seen[item] < keep_counts[item]:\n",
    "                    result.append(item)\n",
    "                    seen[item] += 1\n",
    "            else:\n",
    "                result.append(item)\n",
    "        return result\n",
    "    \n",
    "    keep_a = {k: count_a[k] - overlap.get(k, 0) for k in count_a}\n",
    "    keep_b = {k: count_b[k] - overlap.get(k, 0) for k in count_b}\n",
    "\n",
    "    return filter_list(a, keep_a), filter_list(b, keep_b)\n",
    "\n",
    "markdown_list = markdown.split()\n",
    "raw_text_list = raw_text.split()\n",
    "\n",
    "(markdown_unique, raw_text_unique) = remove_overlaps_preserving_order(markdown_list, raw_text_list)\n",
    "\n",
    "print(\"Unique in the Docling Document: \\n\\n\", ' '.join(raw_text_unique), '\\n\\n')\n",
    "print(\"Unique in the Markdown representation: \\n\\n\", ' '.join(markdown_unique))"
   ]
  },
  {
   "cell_type": "markdown",
   "id": "44e528b9-27b0-4ec3-96e3-584357e4dd41",
   "metadata": {},
   "source": [
    "As can be seen, this method reveals that **there is a chunk of text present in the original docment that does not exist in the markdown representation**. With more time/refinement this method could more clearly show significant content that is missing from the markdown representation, if we deem this useful."
   ]
  },
  {
   "cell_type": "markdown",
   "id": "242c8032-12d8-494a-bc9c-c2a7cec01234",
   "metadata": {},
   "source": [
    "## Takeaways"
   ]
  },
  {
   "cell_type": "markdown",
   "id": "0541c135-60ee-41be-a0d5-6e213399ae9a",
   "metadata": {},
   "source": [
    "**It is definitely possible to use the editing methods discussed in** ```docling_doc_structure.ipynb``` **to fix errors in document conversion** that we have observed in our PoC's. However, this process is difficult to do in a Jupyter Notebook, since it is hard to locate the RefItem's of objects that you would like to edit. Thus, connecting these editing functions to a UI seems to be the best option, as the RefItem's of different objects could be stored with their previews and updated when the document is edited. \n",
    "\n",
    "Simple actions like moving sections with drag-and-drop and editing text/tables are definitely possible given the methods/implementations shown above. However, the existing \"Rendered Docling Document\" would not be a suitable base for building this editing UI due to it's static nature (tooltips placed over static png images). **A new way of previewing DoclingDocuments (possibly in a basic format similar to Markdown) would need to be developed before making a UI to edit them.**"
   ]
  }
 ],
 "metadata": {
  "kernelspec": {
   "display_name": "Python 3 (ipykernel)",
   "language": "python",
   "name": "python3"
  },
  "language_info": {
   "codemirror_mode": {
    "name": "ipython",
    "version": 3
   },
   "file_extension": ".py",
   "mimetype": "text/x-python",
   "name": "python",
   "nbconvert_exporter": "python",
   "pygments_lexer": "ipython3",
   "version": "3.12.7"
  }
 },
 "nbformat": 4,
 "nbformat_minor": 5
}
