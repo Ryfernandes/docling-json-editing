{
 "cells": [
  {
   "cell_type": "code",
   "execution_count": 33,
   "id": "06e4d3cd-3539-433b-b4f3-9bde400ec146",
   "metadata": {},
   "outputs": [],
   "source": [
    "!pip install -q docling"
   ]
  },
  {
   "cell_type": "code",
   "execution_count": 15,
   "id": "5ef7ad13-a766-462a-9b92-0d356457f266",
   "metadata": {},
   "outputs": [],
   "source": [
    "from docling.document_converter import DocumentConverter\n",
    "\n",
    "\n",
    "source = 'files/01_Advantage_Savings.pdf'\n",
    "converter = DocumentConverter()\n",
    "result = converter.convert(source)\n",
    "doc = result.document"
   ]
  },
  {
   "cell_type": "code",
   "execution_count": 16,
   "id": "b92aceb7-06de-4e57-9756-166d6f535090",
   "metadata": {},
   "outputs": [
    {
     "name": "stdout",
     "output_type": "stream",
     "text": [
      " 0: unspecified with name=_root_\n",
      "  1: section_header\n",
      "  2: section_header\n",
      "  3: section_header\n",
      "  4: text\n",
      "  5: text\n",
      "  6: text\n",
      "  7: text\n",
      "  8: text\n",
      "  9: text\n",
      "  10: text\n",
      "  11: text\n",
      "  12: list with name=list\n",
      "   13: list_item\n",
      "   14: list_item\n",
      "   15: list_item\n",
      "   16: list_item\n",
      "  17: section_header\n",
      "  18: key_value_area with name=group\n",
      "   19: text\n",
      "   20: text\n",
      "   21: text\n",
      "   22: text\n",
      "   23: text\n",
      "   24: text\n",
      "   25: text\n",
      "  26: section_header\n",
      "  27: text\n",
      "  28: text\n",
      "  29: text\n",
      "  30: text\n",
      "  31: section_header\n",
      "  32: text\n",
      "  33: text\n",
      "  34: text\n",
      "  35: picture\n",
      "  36: section_header\n",
      "  37: section_header\n",
      "  38: table\n",
      "  39: text\n",
      "  40: text\n"
     ]
    }
   ],
   "source": [
    "doc.print_element_tree()"
   ]
  },
  {
   "cell_type": "code",
   "execution_count": 18,
   "id": "f7565a94-3a6e-4afd-bd61-1b8c17e80d8f",
   "metadata": {},
   "outputs": [
    {
     "data": {
      "text/plain": [
       "7521"
      ]
     },
     "execution_count": 18,
     "metadata": {},
     "output_type": "execute_result"
    }
   ],
   "source": [
    "len(doc.export_to_doctags())"
   ]
  },
  {
   "cell_type": "code",
   "execution_count": 19,
   "id": "53c36a1c-9c6b-47d3-9c05-ff9404c42054",
   "metadata": {},
   "outputs": [
    {
     "data": {
      "text/plain": [
       "5229"
      ]
     },
     "execution_count": 19,
     "metadata": {},
     "output_type": "execute_result"
    }
   ],
   "source": [
    "len(doc.export_to_markdown())"
   ]
  },
  {
   "cell_type": "code",
   "execution_count": 21,
   "id": "3b2288da-a7da-4509-914e-b1ec2a518718",
   "metadata": {},
   "outputs": [
    {
     "name": "stdout",
     "output_type": "stream",
     "text": [
      "## Bank of America Advantage Savings\n",
      "\n",
      "## Clarity Statement ®  - Overview of key policies and fees\n",
      "\n",
      "## Your Bank of America Advantage Savings Account\n",
      "\n",
      "FDIC\n",
      "\n",
      "Coverage\n",
      "\n",
      "This account is insured by the Federal Deposit Insurance Corporation (FDIC) and is backed by the U.S. government. The standard insurance amount is $250,000 per depositor, per insured bank, for each account ownership category.\n",
      "\n",
      "Monthly Maintenance Fee\n",
      "\n",
      "$8.00\n",
      "\n",
      "each month\n",
      "\n",
      "(We'll waive this fee for the first 6 months.)\n",
      "\n",
      "You can avoid the Monthly Maintenance Fee when you meet ONE of the following requirements during each statement cycle:\n",
      "\n",
      "- · Maintain a minimum daily balance of $500 or more in your account, OR\n",
      "- · Ask us to link your account to your Bank of America Advantage Relationship Banking ® , Bank of America Advantage  with Tiered Interest Checking or Bank of America Advantage ® ® Regular Checking account (first 4 savings accounts), OR\n",
      "- · An owner of this account is under the age of 25 (fiduciary accounts don't qualify), OR\n",
      "- · Be a member of the Preferred Rewards program. Learn more at bankofamerica.com/preferred-rewards, or visit your local financial center.\n",
      "\n",
      "## Interest rate policy\n",
      "\n",
      "Interest rate and interest calculation\n",
      "\n",
      "Your account has a variable interest rate, which means the interest rate may change. Interest rates for your account are based on balance tiers, are set at our discretion and may change at any time without notice.\n",
      "\n",
      "To calculate interest, we apply a daily periodic rate to the collected balance in your account each day. The daily rate that applies will depend on which balance tier your end-of-day balance falls in. We compound and pay any interest earned monthly. Interest is only paid in whole cents and we use standard rounding rules to calculate the amount. This means that an amount less than half of one cent is rounded down to zero, and an amount of half of one cent or more is rounded up to the next whole cent.\n",
      "\n",
      "Extra interest\n",
      "\n",
      "Extra interest is earned automatically when an account owner is enrolled in the Preferred Rewards program. The interest rate will increase by at least 5%, 10% or 20% over the standard rate, and is based on the Preferred Rewards tier in which you're enrolled. We may decide to pay a higher rate.\n",
      "\n",
      "Where can I find information about current interest rates?\n",
      "\n",
      "You can find current rate information by checking bankofamerica.com, calling the number on your account statement or visiting a financial center.\n",
      "\n",
      "## When your deposits are available\n",
      "\n",
      "Cash, direct deposits, wire transfers: On the day we receive them.\n",
      "\n",
      "Checks: Usually the next business day if deposited before the financial center or ATM cutoff time.\n",
      "\n",
      "Mobile Check Deposit: Usually the next business day if deposited by applicable cutoff times. Please refer to Deposit Checks , then Help in the Mobile Banking app for additional details and terms and conditions.\n",
      "\n",
      "If we place a hold on your deposit, we'll let you know the hold reason and when your funds will be available. This is typically provided at the time of deposit but may also be mailed later. Deposits greater than $5,525 and checks deposited within the first 30 days of account opening may be held longer.\n",
      "\n",
      "## Overdraft policy\n",
      "\n",
      "We don't charge overdraft fees on this account. To help you avoid overdrawing your account, transactions will be declined and returned unpaid when you don't have enough money in your account.\n",
      "\n",
      "If this happens, you won't be charged a bank overdraft fee, but the merchant or third party could charge you a fee. For example, you may be charged a late fee if the payment isn't received on time.\n",
      "\n",
      "There may still be times when your account could have a negative balance, but we won't charge an overdraft fee.\n",
      "\n",
      "<!-- image -->\n",
      "\n",
      "## Additional Services\n",
      "\n",
      "## Keep the Change  savings program ®\n",
      "\n",
      "| Bank of America ATMs     | No ATM fee   | For deposits, withdrawals, transfers or balance inquiries                                  |\n",
      "|--------------------------|--------------|--------------------------------------------------------------------------------------------|\n",
      "| Non-Bank of America ATMs | $2.50        | In the U.S., plus any fee charged by the ATM's operator                                    |\n",
      "| Non-Bank of America ATMs | $5.00        | Outside the U.S., plus any fee charged by the ATM's operator                               |\n",
      "| Statement copies         | No fee       | Paper copies available upon request. Printable statements are available in Online Banking. |\n",
      "| Stop payment fee         | $30.00       | For each request; WAIVED for requests on Bill Pay transactions                             |\n",
      "| Cashier's checks         | $15.00       | For each check                                                                             |\n",
      "\n",
      "of America debit card, and we'll round up your purchases to the nearest dollar amount and transfer the Build your savings automatically when you enroll in our Keep the Change savings program. Simply make everyday purchases with your Bank difference from your checking account to your savings account.\n",
      "\n",
      "Please see the Personal Schedule of Fees and Deposit Agreement and Disclosures for your account terms, and information on how to link eligible accounts to avoid the Monthly Maintenance Fee.\n"
     ]
    }
   ],
   "source": [
    "print(doc.export_to_markdown())"
   ]
  },
  {
   "cell_type": "code",
   "execution_count": 22,
   "id": "3fe489c5-a3ae-44df-a642-89659a58ef2c",
   "metadata": {},
   "outputs": [
    {
     "name": "stdout",
     "output_type": "stream",
     "text": [
      "<doctag><section_header_level_1><loc_29><loc_15><loc_239><loc_25>Bank of America Advantage Savings</section_header_level_1>\n",
      "<section_header_level_1><loc_29><loc_35><loc_289><loc_43>Clarity Statement ®  - Overview of key policies and fees</section_header_level_1>\n",
      "<section_header_level_1><loc_32><loc_46><loc_225><loc_53>Your Bank of America Advantage Savings Account</section_header_level_1>\n",
      "<text><loc_29><loc_60><loc_50><loc_66>FDIC</text>\n",
      "<text><loc_29><loc_67><loc_67><loc_74>Coverage</text>\n",
      "<text><loc_87><loc_60><loc_457><loc_79>This account is insured by the Federal Deposit Insurance Corporation (FDIC) and is backed by the U.S. government. The standard insurance amount is $250,000 per depositor, per insured bank, for each account ownership category.</text>\n",
      "<text><loc_29><loc_84><loc_80><loc_103>Monthly Maintenance Fee</text>\n",
      "<text><loc_87><loc_84><loc_111><loc_90>$8.00</text>\n",
      "<text><loc_87><loc_90><loc_105><loc_96><loc_87><loc_90><loc_105><loc_96>each month</text>\n",
      "<text><loc_29><loc_109><loc_82><loc_127>(We'll waive this fee for the first 6 months.)</text>\n",
      "<text><loc_126><loc_84><loc_461><loc_97>You can avoid the Monthly Maintenance Fee when you meet ONE of the following requirements during each statement cycle:</text>\n",
      "<unordered_list><list_item><loc_126><loc_99><loc_380><loc_105>· Maintain a minimum daily balance of $500 or more in your account, OR</list_item>\n",
      "<list_item><loc_126><loc_105><loc_472><loc_126>· Ask us to link your account to your Bank of America Advantage Relationship Banking ® , Bank of America Advantage  with Tiered Interest Checking or Bank of America Advantage ® ® Regular Checking account (first 4 savings accounts), OR</list_item>\n",
      "<list_item><loc_126><loc_126><loc_414><loc_133>· An owner of this account is under the age of 25 (fiduciary accounts don't qualify), OR</list_item>\n",
      "<list_item><loc_126><loc_134><loc_386><loc_147>· Be a member of the Preferred Rewards program. Learn more at bankofamerica.com/preferred-rewards, or visit your local financial center.</list_item>\n",
      "</unordered_list>\n",
      "<section_header_level_1><loc_32><loc_158><loc_107><loc_164>Interest rate policy</section_header_level_1>\n",
      "<text><loc_31><loc_170><loc_76><loc_189>Interest rate and interest calculation</text>\n",
      "<text><loc_102><loc_170><loc_465><loc_183>Your account has a variable interest rate, which means the interest rate may change. Interest rates for your account are based on balance tiers, are set at our discretion and may change at any time without notice.</text>\n",
      "<text><loc_102><loc_186><loc_465><loc_219>To calculate interest, we apply a daily periodic rate to the collected balance in your account each day. The daily rate that applies will depend on which balance tier your end-of-day balance falls in. We compound and pay any interest earned monthly. Interest is only paid in whole cents and we use standard rounding rules to calculate the amount. This means that an amount less than half of one cent is rounded down to zero, and an amount of half of one cent or more is rounded up to the next whole cent.</text>\n",
      "<text><loc_29><loc_225><loc_78><loc_231>Extra interest</text>\n",
      "<text><loc_102><loc_226><loc_472><loc_245>Extra interest is earned automatically when an account owner is enrolled in the Preferred Rewards program. The interest rate will increase by at least 5%, 10% or 20% over the standard rate, and is based on the Preferred Rewards tier in which you're enrolled. We may decide to pay a higher rate.</text>\n",
      "<text><loc_29><loc_252><loc_99><loc_271>Where can I find information about current interest rates?</text>\n",
      "<text><loc_102><loc_252><loc_440><loc_265>You can find current rate information by checking bankofamerica.com, calling the number on your account statement or visiting a financial center.</text>\n",
      "<section_header_level_1><loc_32><loc_282><loc_160><loc_288>When your deposits are available</section_header_level_1>\n",
      "<text><loc_31><loc_292><loc_274><loc_299>Cash, direct deposits, wire transfers: On the day we receive them.</text>\n",
      "<text><loc_31><loc_303><loc_373><loc_309>Checks: Usually the next business day if deposited before the financial center or ATM cutoff time.</text>\n",
      "<text><loc_31><loc_313><loc_443><loc_325>Mobile Check Deposit: Usually the next business day if deposited by applicable cutoff times. Please refer to Deposit Checks , then Help in the Mobile Banking app for additional details and terms and conditions.</text>\n",
      "<text><loc_31><loc_329><loc_471><loc_348>If we place a hold on your deposit, we'll let you know the hold reason and when your funds will be available. This is typically provided at the time of deposit but may also be mailed later. Deposits greater than $5,525 and checks deposited within the first 30 days of account opening may be held longer.</text>\n",
      "<section_header_level_1><loc_32><loc_353><loc_94><loc_359>Overdraft policy</section_header_level_1>\n",
      "<text><loc_29><loc_364><loc_468><loc_376>We don't charge overdraft fees on this account. To help you avoid overdrawing your account, transactions will be declined and returned unpaid when you don't have enough money in your account.</text>\n",
      "<text><loc_29><loc_379><loc_471><loc_391>If this happens, you won't be charged a bank overdraft fee, but the merchant or third party could charge you a fee. For example, you may be charged a late fee if the payment isn't received on time.</text>\n",
      "<text><loc_29><loc_394><loc_421><loc_400>There may still be times when your account could have a negative balance, but we won't charge an overdraft fee.</text>\n",
      "<picture><loc_387><loc_13><loc_473><loc_21></picture>\n",
      "<page_footer><loc_29><loc_481><loc_220><loc_486>Information is current as of 05/2024 and is subject to change.</page_footer>\n",
      "<page_footer><loc_447><loc_483><loc_479><loc_488>See reverse</page_footer>\n",
      "<page_break>\n",
      "<section_header_level_1><loc_32><loc_14><loc_108><loc_20>Additional Services</section_header_level_1>\n",
      "<section_header_level_1><loc_32><loc_99><loc_168><loc_106>Keep the Change  savings program ®</section_header_level_1>\n",
      "<otsl><loc_28><loc_16><loc_469><loc_103><ched>Bank of America ATMs<ched>No ATM fee<ched>For deposits, withdrawals, transfers or balance inquiries<nl><fcel>Non-Bank of America ATMs<fcel>$2.50<fcel>In the U.S., plus any fee charged by the ATM's operator<nl><ucel><fcel>$5.00<fcel>Outside the U.S., plus any fee charged by the ATM's operator<nl><fcel>Statement copies<fcel>No fee<fcel>Paper copies available upon request. Printable statements are available in Online Banking.<nl><fcel>Stop payment fee<fcel>$30.00<fcel>For each request; WAIVED for requests on Bill Pay transactions<nl><fcel>Cashier's checks<fcel>$15.00<fcel>For each check<nl></otsl>\n",
      "<text><loc_29><loc_109><loc_458><loc_128>of America debit card, and we'll round up your purchases to the nearest dollar amount and transfer the Build your savings automatically when you enroll in our Keep the Change savings program. Simply make everyday purchases with your Bank difference from your checking account to your savings account.</text>\n",
      "<text><loc_31><loc_133><loc_457><loc_147>Please see the Personal Schedule of Fees and Deposit Agreement and Disclosures for your account terms, and information on how to link eligible accounts to avoid the Monthly Maintenance Fee.</text>\n",
      "<page_footer><loc_29><loc_483><loc_478><loc_496>of America, N.A., and affiliated banks, Member FDIC and wholly owned subsidiaries of Bank of America Corporation. Banking products are provided by Bank © 2024 Bank of America Corporation. 6176409 | 00-14-9324 | ALL STATES 00-14-9324NSB</page_footer>\n",
      "</doctag>\n"
     ]
    }
   ],
   "source": [
    "print(doc.export_to_doctags())"
   ]
  },
  {
   "cell_type": "code",
   "execution_count": 26,
   "id": "990c4b09-e8f6-46c6-aa62-ec27df219f1d",
   "metadata": {},
   "outputs": [
    {
     "name": "stdout",
     "output_type": "stream",
     "text": [
      "Bank of America Advantage Savings\n",
      "Clarity Statement ®  - Overview of key policies and fees\n",
      "Your Bank of America Advantage Savings Account\n",
      "FDIC\n",
      "Coverage\n",
      "This account is insured by the Federal Deposit Insurance Corporation (FDIC) and is backed by the U.S. government. The standard insurance amount is $250,000 per depositor, per insured bank, for each account ownership category.\n",
      "Monthly Maintenance Fee\n",
      "$8.00\n",
      "each month\n",
      "(We'll waive this fee for the first 6 months.)\n",
      "You can avoid the Monthly Maintenance Fee when you meet ONE of the following requirements during each statement cycle:\n",
      "· Maintain a minimum daily balance of $500 or more in your account, OR\n",
      "· Ask us to link your account to your Bank of America Advantage Relationship Banking ® , Bank of America Advantage  with Tiered Interest Checking or Bank of America Advantage ® ® Regular Checking account (first 4 savings accounts), OR\n",
      "· An owner of this account is under the age of 25 (fiduciary accounts don't qualify), OR\n",
      "· Be a member of the Preferred Rewards program. Learn more at bankofamerica.com/preferred-rewards, or visit your local financial center.\n",
      "\n",
      "Interest rate policy\n",
      "Interest rate and interest calculation\n",
      "Your account has a variable interest rate, which means the interest rate may change. Interest rates for your account are based on balance tiers, are set at our discretion and may change at any time without notice.\n",
      "To calculate interest, we apply a daily periodic rate to the collected balance in your account each day. The daily rate that applies will depend on which balance tier your end-of-day balance falls in. We compound and pay any interest earned monthly. Interest is only paid in whole cents and we use standard rounding rules to calculate the amount. This means that an amount less than half of one cent is rounded down to zero, and an amount of half of one cent or more is rounded up to the next whole cent.\n",
      "Extra interest\n",
      "Extra interest is earned automatically when an account owner is enrolled in the Preferred Rewards program. The interest rate will increase by at least 5%, 10% or 20% over the standard rate, and is based on the Preferred Rewards tier in which you're enrolled. We may decide to pay a higher rate.\n",
      "Where can I find information about current interest rates?\n",
      "You can find current rate information by checking bankofamerica.com, calling the number on your account statement or visiting a financial center.\n",
      "When your deposits are available\n",
      "Cash, direct deposits, wire transfers: On the day we receive them.\n",
      "Checks: Usually the next business day if deposited before the financial center or ATM cutoff time.\n",
      "Mobile Check Deposit: Usually the next business day if deposited by applicable cutoff times. Please refer to Deposit Checks , then Help in the Mobile Banking app for additional details and terms and conditions.\n",
      "If we place a hold on your deposit, we'll let you know the hold reason and when your funds will be available. This is typically provided at the time of deposit but may also be mailed later. Deposits greater than $5,525 and checks deposited within the first 30 days of account opening may be held longer.\n",
      "Overdraft policy\n",
      "We don't charge overdraft fees on this account. To help you avoid overdrawing your account, transactions will be declined and returned unpaid when you don't have enough money in your account.\n",
      "If this happens, you won't be charged a bank overdraft fee, but the merchant or third party could charge you a fee. For example, you may be charged a late fee if the payment isn't received on time.\n",
      "There may still be times when your account could have a negative balance, but we won't charge an overdraft fee.\n",
      "\n",
      "Information is current as of 05/2024 and is subject to change.\n",
      "See reverse\n",
      "\n",
      "Additional Services\n",
      "Keep the Change  savings program ®\n",
      "Bank of America ATMsNo ATM feeFor deposits, withdrawals, transfers or balance inquiriesNon-Bank of America ATMs$2.50In the U.S., plus any fee charged by the ATM's operator$5.00Outside the U.S., plus any fee charged by the ATM's operatorStatement copiesNo feePaper copies available upon request. Printable statements are available in Online Banking.Stop payment fee$30.00For each request; WAIVED for requests on Bill Pay transactionsCashier's checks$15.00For each check\n",
      "of America debit card, and we'll round up your purchases to the nearest dollar amount and transfer the Build your savings automatically when you enroll in our Keep the Change savings program. Simply make everyday purchases with your Bank difference from your checking account to your savings account.\n",
      "Please see the Personal Schedule of Fees and Deposit Agreement and Disclosures for your account terms, and information on how to link eligible accounts to avoid the Monthly Maintenance Fee.\n",
      "of America, N.A., and affiliated banks, Member FDIC and wholly owned subsidiaries of Bank of America Corporation. Banking products are provided by Bank © 2024 Bank of America Corporation. 6176409 | 00-14-9324 | ALL STATES 00-14-9324NSB\n"
     ]
    }
   ],
   "source": [
    "import re\n",
    "\n",
    "print(re.sub(r\"<.*?>\", \"\", doc.export_to_doctags(), flags=re.DOTALL).strip())"
   ]
  },
  {
   "cell_type": "code",
   "execution_count": 27,
   "id": "7784341f-a473-471d-acc1-adf6d214d162",
   "metadata": {},
   "outputs": [
    {
     "name": "stderr",
     "output_type": "stream",
     "text": [
      "Parameter `strict_text` has been deprecated and will be ignored.\n"
     ]
    },
    {
     "name": "stdout",
     "output_type": "stream",
     "text": [
      "## Bank of America Advantage Savings\n",
      "\n",
      "## Clarity Statement ®  - Overview of key policies and fees\n",
      "\n",
      "## Your Bank of America Advantage Savings Account\n",
      "\n",
      "FDIC\n",
      "\n",
      "Coverage\n",
      "\n",
      "This account is insured by the Federal Deposit Insurance Corporation (FDIC) and is backed by the U.S. government. The standard insurance amount is $250,000 per depositor, per insured bank, for each account ownership category.\n",
      "\n",
      "Monthly Maintenance Fee\n",
      "\n",
      "$8.00\n",
      "\n",
      "each month\n",
      "\n",
      "(We'll waive this fee for the first 6 months.)\n",
      "\n",
      "You can avoid the Monthly Maintenance Fee when you meet ONE of the following requirements during each statement cycle:\n",
      "\n",
      "- · Maintain a minimum daily balance of $500 or more in your account, OR\n",
      "- · Ask us to link your account to your Bank of America Advantage Relationship Banking ® , Bank of America Advantage  with Tiered Interest Checking or Bank of America Advantage ® ® Regular Checking account (first 4 savings accounts), OR\n",
      "- · An owner of this account is under the age of 25 (fiduciary accounts don't qualify), OR\n",
      "- · Be a member of the Preferred Rewards program. Learn more at bankofamerica.com/preferred-rewards, or visit your local financial center.\n",
      "\n",
      "## Interest rate policy\n",
      "\n",
      "Interest rate and interest calculation\n",
      "\n",
      "Your account has a variable interest rate, which means the interest rate may change. Interest rates for your account are based on balance tiers, are set at our discretion and may change at any time without notice.\n",
      "\n",
      "To calculate interest, we apply a daily periodic rate to the collected balance in your account each day. The daily rate that applies will depend on which balance tier your end-of-day balance falls in. We compound and pay any interest earned monthly. Interest is only paid in whole cents and we use standard rounding rules to calculate the amount. This means that an amount less than half of one cent is rounded down to zero, and an amount of half of one cent or more is rounded up to the next whole cent.\n",
      "\n",
      "Extra interest\n",
      "\n",
      "Extra interest is earned automatically when an account owner is enrolled in the Preferred Rewards program. The interest rate will increase by at least 5%, 10% or 20% over the standard rate, and is based on the Preferred Rewards tier in which you're enrolled. We may decide to pay a higher rate.\n",
      "\n",
      "Where can I find information about current interest rates?\n",
      "\n",
      "You can find current rate information by checking bankofamerica.com, calling the number on your account statement or visiting a financial center.\n",
      "\n",
      "## When your deposits are available\n",
      "\n",
      "Cash, direct deposits, wire transfers: On the day we receive them.\n",
      "\n",
      "Checks: Usually the next business day if deposited before the financial center or ATM cutoff time.\n",
      "\n",
      "Mobile Check Deposit: Usually the next business day if deposited by applicable cutoff times. Please refer to Deposit Checks , then Help in the Mobile Banking app for additional details and terms and conditions.\n",
      "\n",
      "If we place a hold on your deposit, we'll let you know the hold reason and when your funds will be available. This is typically provided at the time of deposit but may also be mailed later. Deposits greater than $5,525 and checks deposited within the first 30 days of account opening may be held longer.\n",
      "\n",
      "## Overdraft policy\n",
      "\n",
      "We don't charge overdraft fees on this account. To help you avoid overdrawing your account, transactions will be declined and returned unpaid when you don't have enough money in your account.\n",
      "\n",
      "If this happens, you won't be charged a bank overdraft fee, but the merchant or third party could charge you a fee. For example, you may be charged a late fee if the payment isn't received on time.\n",
      "\n",
      "There may still be times when your account could have a negative balance, but we won't charge an overdraft fee.\n",
      "\n",
      "## Additional Services\n",
      "\n",
      "## Keep the Change  savings program ®\n",
      "\n",
      "| Bank of America ATMs     | No ATM fee   | For deposits, withdrawals, transfers or balance inquiries                                  |\n",
      "|--------------------------|--------------|--------------------------------------------------------------------------------------------|\n",
      "| Non-Bank of America ATMs | $2.50        | In the U.S., plus any fee charged by the ATM's operator                                    |\n",
      "| Non-Bank of America ATMs | $5.00        | Outside the U.S., plus any fee charged by the ATM's operator                               |\n",
      "| Statement copies         | No fee       | Paper copies available upon request. Printable statements are available in Online Banking. |\n",
      "| Stop payment fee         | $30.00       | For each request; WAIVED for requests on Bill Pay transactions                             |\n",
      "| Cashier's checks         | $15.00       | For each check                                                                             |\n",
      "\n",
      "of America debit card, and we'll round up your purchases to the nearest dollar amount and transfer the Build your savings automatically when you enroll in our Keep the Change savings program. Simply make everyday purchases with your Bank difference from your checking account to your savings account.\n",
      "\n",
      "Please see the Personal Schedule of Fees and Deposit Agreement and Disclosures for your account terms, and information on how to link eligible accounts to avoid the Monthly Maintenance Fee.\n"
     ]
    }
   ],
   "source": [
    "print(doc.export_to_text())"
   ]
  },
  {
   "cell_type": "code",
   "execution_count": 34,
   "id": "890d4b11-3667-48a7-a362-e604de6bfbb5",
   "metadata": {},
   "outputs": [
    {
     "name": "stdout",
     "output_type": "stream",
     "text": [
      "<class 'docling_core.types.doc.document.DoclingDocument'>\n"
     ]
    }
   ],
   "source": [
    "from docling.document_converter import DocumentConverter\n",
    "\n",
    "source = 'docling-document/files/01_Advantage_Savings.pdf'\n",
    "converter = DocumentConverter()\n",
    "result = converter.convert(source)\n",
    "docling_doc = result.document\n",
    "\n",
    "print(type(docling_doc))"
   ]
  },
  {
   "cell_type": "code",
   "execution_count": 40,
   "id": "ff35b074-f56e-4cdb-b56e-b5f2b65e4b6f",
   "metadata": {},
   "outputs": [
    {
     "name": "stdout",
     "output_type": "stream",
     "text": [
      "Document length before: 5229\n",
      "Document length after: 5229\n"
     ]
    }
   ],
   "source": [
    "from docling_core.types.doc.document import DoclingDocument\n",
    "\n",
    "FILE_NAME = 'docling-document/files/example.json'\n",
    "\n",
    "# Check original length\n",
    "orig_len = len(docling_doc.export_to_markdown())\n",
    "print(f'Document length before: {orig_len}')\n",
    "\n",
    "# Save document as JSON\n",
    "docling_doc.save_as_json(FILE_NAME)\n",
    "\n",
    "# Re-upload as a new Docling Document\n",
    "new_docling_doc = DoclingDocument.load_from_json(FILE_NAME)\n",
    "final_len = len(new_docling_doc.export_to_markdown())\n",
    "print(f'Document length after: {final_len}')"
   ]
  },
  {
   "cell_type": "code",
   "execution_count": null,
   "id": "07cf48de-35ec-4fc1-84a6-9279a2999ff7",
   "metadata": {},
   "outputs": [],
   "source": []
  }
 ],
 "metadata": {
  "kernelspec": {
   "display_name": "Python 3 (ipykernel)",
   "language": "python",
   "name": "python3"
  },
  "language_info": {
   "codemirror_mode": {
    "name": "ipython",
    "version": 3
   },
   "file_extension": ".py",
   "mimetype": "text/x-python",
   "name": "python",
   "nbconvert_exporter": "python",
   "pygments_lexer": "ipython3",
   "version": "3.12.7"
  }
 },
 "nbformat": 4,
 "nbformat_minor": 5
}
