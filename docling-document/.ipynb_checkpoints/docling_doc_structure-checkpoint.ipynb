{
 "cells": [
  {
   "cell_type": "markdown",
   "id": "2e1d9995-50e0-4ce1-b725-e5c1eb67efa5",
   "metadata": {},
   "source": [
    "# Docling Document Structure\n",
    "\n",
    "This notebook examines the structure of ```DoclingDocument``` objects, as well as implementations of some relevant properties/methods for editing documents."
   ]
  },
  {
   "cell_type": "markdown",
   "id": "425d7ad9-0362-49f6-bb90-c4a8efc24d82",
   "metadata": {},
   "source": [
    "---\n",
    "## Imports\n",
    "Run the following cells to import necessary packages for this notebook, namely Docling."
   ]
  },
  {
   "cell_type": "code",
   "execution_count": 15,
   "id": "45981518-afb9-4d02-a8b5-0a0ee8b11a05",
   "metadata": {},
   "outputs": [],
   "source": [
    "!pip install -q docling"
   ]
  },
  {
   "cell_type": "code",
   "execution_count": 16,
   "id": "41979eac-e6e2-4d5c-b035-7f79ae11595b",
   "metadata": {},
   "outputs": [],
   "source": [
    "from docling.document_converter import DocumentConverter\n",
    "from docling_core.types.doc.document import (\n",
    "    DoclingDocument,\n",
    "    RefItem,\n",
    "    ListItem,\n",
    ")"
   ]
  },
  {
   "cell_type": "markdown",
   "id": "8e95c6b3-0aa7-472b-89b2-acbc5d18b031",
   "metadata": {},
   "source": [
    "## Create Example Document\n",
    "\n",
    "The following function converts the ```01_Advantage_Savings.pdf``` file with default conversion setttings to use as an example throughout the notebook."
   ]
  },
  {
   "cell_type": "code",
   "execution_count": 19,
   "id": "66513c94-1881-458e-9191-517d908b5e7b",
   "metadata": {},
   "outputs": [
    {
     "name": "stdout",
     "output_type": "stream",
     "text": [
      "<class 'docling_core.types.doc.document.DoclingDocument'>\n"
     ]
    }
   ],
   "source": [
    "FILE_SOURCE = 'files/pdf/01_Advantage_Savings.pdf'\n",
    "\n",
    "converter = DocumentConverter()\n",
    "result = converter.convert(FILE_SOURCE)\n",
    "\n",
    "docling_doc = result.document\n",
    "print(type(docling_doc))"
   ]
  },
  {
   "cell_type": "markdown",
   "id": "2e651a1d-157d-442f-a7e3-65d947302c7a",
   "metadata": {},
   "source": [
    "## Visualizing Docling Documents\n",
    "\n",
    "The following cells cover the methods available for visualizing Docling Documents, both in their structure and content."
   ]
  },
  {
   "cell_type": "markdown",
   "id": "b823dd73-2219-4f95-882d-97e9a3047d1e",
   "metadata": {},
   "source": [
    "<br>\n",
    "\n",
    "```print_element_tree()``` - Visualizes the content layers and parent/child relationships in the document"
   ]
  },
  {
   "cell_type": "code",
   "execution_count": 27,
   "id": "6d7c4414-2eaf-4018-b495-d1fee6b8c224",
   "metadata": {},
   "outputs": [
    {
     "name": "stdout",
     "output_type": "stream",
     "text": [
      " 0: unspecified with name=_root_\n",
      "  1: section_header\n",
      "  2: section_header\n",
      "  3: section_header\n",
      "  4: text\n",
      "  5: text\n",
      "  6: text\n",
      "  7: text\n",
      "  8: text\n",
      "  9: text\n",
      "  10: text\n",
      "  11: text\n",
      "  12: list with name=list\n",
      "   13: list_item\n",
      "   14: list_item\n",
      "   15: list_item\n",
      "   16: list_item\n",
      "  17: section_header\n",
      "  18: key_value_area with name=group\n",
      "   19: text\n",
      "   20: text\n",
      "   21: text\n",
      "   22: text\n",
      "   23: text\n",
      "   24: text\n",
      "   25: text\n",
      "  26: section_header\n",
      "  27: text\n",
      "  28: text\n",
      "  29: text\n",
      "  30: text\n",
      "  31: section_header\n",
      "  32: text\n",
      "  33: text\n",
      "  34: text\n",
      "  35: picture\n",
      "  36: section_header\n",
      "  37: section_header\n",
      "  38: table\n",
      "  39: text\n",
      "  40: text\n"
     ]
    }
   ],
   "source": [
    "docling_doc.print_element_tree()\n",
    "\n",
    "# Alternative: export_to_element_tree() - same as print_element_tree(), but saves the tree as a string\n",
    "\n",
    "# tree = docling_doc.export_to_element_tree()\n",
    "# print(tree)"
   ]
  },
  {
   "cell_type": "markdown",
   "id": "e56dac4c-f679-4a21-bf0f-1c434123bc36",
   "metadata": {},
   "source": [
    "<br>\n",
    "\n",
    "```export_to_markdown()``` - Converts the content of the document to Markdown format, which can be printed"
   ]
  },
  {
   "cell_type": "code",
   "execution_count": 36,
   "id": "0367bb10-40fd-4593-b250-46e5997fc97f",
   "metadata": {},
   "outputs": [
    {
     "name": "stdout",
     "output_type": "stream",
     "text": [
      "## Bank of America Advantage Savings\n",
      "\n",
      "## Clarity Statement ®  - Overview of key policies and fees\n",
      "\n",
      "## Your Bank of America Advantage Savings Account\n",
      "\n",
      "FDIC\n",
      "\n",
      "Coverage\n",
      "\n",
      "This account is insured by the Fed \n",
      "...\n"
     ]
    }
   ],
   "source": [
    "markdown = docling_doc.export_to_markdown()\n",
    "\n",
    "print(markdown[0:200], \"\\n...\")"
   ]
  },
  {
   "cell_type": "markdown",
   "id": "56bfe035-7a0b-4edd-b335-70285f312464",
   "metadata": {},
   "source": [
    "<br>\n",
    "\n",
    "```save_as_markdown()``` - "
   ]
  },
  {
   "cell_type": "code",
   "execution_count": null,
   "id": "969602f1-7dcd-482e-881a-66e9a21130fd",
   "metadata": {},
   "outputs": [],
   "source": []
  },
  {
   "cell_type": "markdown",
   "id": "e3ce8065-7c3d-4093-bce8-68af5d400ed0",
   "metadata": {},
   "source": [
    "<br>\n",
    "\n",
    "```export_to_text()``` - Just wraps ```save_as_markdown()``` currently and gives the same output"
   ]
  },
  {
   "cell_type": "markdown",
   "id": "ef03bfe6-2a39-45b5-af4f-a82ab60b0285",
   "metadata": {},
   "source": [
    "<br>\n",
    "\n",
    "```export_to_html()``` - Saves a string representation of the document in HTML"
   ]
  },
  {
   "cell_type": "code",
   "execution_count": 34,
   "id": "81be8891-e189-4d05-b19d-b45025226bdf",
   "metadata": {},
   "outputs": [
    {
     "name": "stdout",
     "output_type": "stream",
     "text": [
      "<!DOCTYPE html>\n",
      "<html>\n",
      "<head>\n",
      "<meta charset=\"UTF-8\">\n",
      "<title>01_Advantage_Savings</title>\n",
      "<meta name=\"generator\" content=\"Docling HTML Serializer\">\n",
      "<style>\n",
      "    html {\n",
      "        background-color: #f5f5f5; \n",
      "...\n"
     ]
    }
   ],
   "source": [
    "html = docling_doc.export_to_html()\n",
    "\n",
    "print(html[0:200], \"\\n...\")"
   ]
  },
  {
   "cell_type": "markdown",
   "id": "4e4ed6a4-6f3e-4c67-9f1d-14721acdd621",
   "metadata": {},
   "source": [
    "<br>\n",
    "\n",
    "```save_as_html()``` - "
   ]
  },
  {
   "cell_type": "code",
   "execution_count": null,
   "id": "93992b68-03dc-43f9-84c4-6b675b1499a1",
   "metadata": {},
   "outputs": [],
   "source": []
  },
  {
   "cell_type": "markdown",
   "id": "878b4ec3-289f-4d0a-8edf-f8df9095bb73",
   "metadata": {},
   "source": [
    "<br>\n",
    "\n",
    "```get_visualization()``` - "
   ]
  },
  {
   "cell_type": "code",
   "execution_count": null,
   "id": "037ff10b-c55e-40ec-b909-e96a44c0d504",
   "metadata": {},
   "outputs": [],
   "source": []
  },
  {
   "cell_type": "markdown",
   "id": "62bcb3a9-193d-4179-b735-a18d25d545db",
   "metadata": {},
   "source": [
    "```export_to_doctags()``` - "
   ]
  },
  {
   "cell_type": "code",
   "execution_count": null,
   "id": "7caac7a2-f834-4bd8-b732-fc570675216f",
   "metadata": {},
   "outputs": [],
   "source": []
  },
  {
   "cell_type": "markdown",
   "id": "15bebd05-f91d-4bab-9a5d-0b73390ba79a",
   "metadata": {},
   "source": []
  },
  {
   "cell_type": "markdown",
   "id": "5e557f9c-2684-4d1e-8680-25365d98be49",
   "metadata": {},
   "source": [
    "## Saving/Loading Docling Documents\n",
    "\n",
    "The following cells cover the methods available for saving 1-to-1 representations of Docling Documents and sourcing them to create new Docling Document objects. Unlike exporting as markdown or HTML, the following exports are lossless, meaning that they store all of the data present in the pydantic class definition of a Docling Document. This makes them good candidates for storing the Docling Document during review, as it allows for edits to be made in a more controlled manner through methods on the Docling Document object."
   ]
  },
  {
   "cell_type": "markdown",
   "id": "3743a483-bcca-4d93-8a5e-51aed713a11c",
   "metadata": {},
   "source": [
    "<br>\n",
    "\n",
    "```save_as_json()``` -"
   ]
  },
  {
   "cell_type": "code",
   "execution_count": null,
   "id": "69341dc4-becd-4252-8743-c35bf2ec64cb",
   "metadata": {},
   "outputs": [],
   "source": []
  },
  {
   "cell_type": "markdown",
   "id": "32f55a92-7ed8-481e-9009-29ae3cfe3aef",
   "metadata": {},
   "source": [
    "<br>\n",
    "\n",
    "```load_from_json()``` - "
   ]
  },
  {
   "cell_type": "code",
   "execution_count": null,
   "id": "955ca01d-38f4-4ce0-8e1d-d9e64298b8ec",
   "metadata": {},
   "outputs": [],
   "source": []
  },
  {
   "cell_type": "markdown",
   "id": "ee375dee-4453-4e36-8ef7-683695510683",
   "metadata": {},
   "source": [
    "```save_as_yaml()``` -"
   ]
  },
  {
   "cell_type": "code",
   "execution_count": null,
   "id": "65943281-152e-4574-bd2a-f8fe30f8cff8",
   "metadata": {},
   "outputs": [],
   "source": []
  },
  {
   "cell_type": "markdown",
   "id": "9daca943-5f9e-4450-a945-ec995467ed49",
   "metadata": {},
   "source": [
    "```load_from_yaml()``` -"
   ]
  },
  {
   "cell_type": "code",
   "execution_count": null,
   "id": "c103eaea-c26a-44b2-8ad2-62f63f7dd731",
   "metadata": {},
   "outputs": [],
   "source": []
  },
  {
   "cell_type": "markdown",
   "id": "e4815d80-e2f4-4a8c-8e67-7db62db1d347",
   "metadata": {},
   "source": [
    "```save_as_doctags()``` -"
   ]
  },
  {
   "cell_type": "code",
   "execution_count": null,
   "id": "d17e0305-e0a0-4cff-9bdb-551bbe77d500",
   "metadata": {},
   "outputs": [],
   "source": []
  },
  {
   "cell_type": "markdown",
   "id": "9b9d1b6b-1f7b-45e4-a64a-c5788235e07d",
   "metadata": {},
   "source": [
    "```load_from_doctags()``` - "
   ]
  },
  {
   "cell_type": "code",
   "execution_count": null,
   "id": "198033e4-9cff-4138-822e-8589e12fad3c",
   "metadata": {},
   "outputs": [],
   "source": []
  },
  {
   "cell_type": "markdown",
   "id": "ae88eb66-f8e2-4446-b488-7470360db93a",
   "metadata": {},
   "source": [
    "## The Parts of Docling Documents\n",
    "\n",
    "Before attempting to edit Docling Documents with built-in methods, it is important to understand how Docling Documents are organized as a data type and how to access parts within them. "
   ]
  },
  {
   "cell_type": "code",
   "execution_count": null,
   "id": "a9d1fb58-ff61-4760-be96-3dc08e4f9d4f",
   "metadata": {},
   "outputs": [],
   "source": []
  },
  {
   "cell_type": "code",
   "execution_count": null,
   "id": "f0bd4290-dd07-4d7b-8779-46bd74c8ce3a",
   "metadata": {},
   "outputs": [],
   "source": []
  },
  {
   "cell_type": "code",
   "execution_count": null,
   "id": "31e473f9-9da4-4a44-97d4-b299c1b8bf75",
   "metadata": {},
   "outputs": [],
   "source": []
  },
  {
   "cell_type": "code",
   "execution_count": null,
   "id": "8218b391-bcda-42b2-9e75-4f84fece86e3",
   "metadata": {},
   "outputs": [],
   "source": []
  },
  {
   "cell_type": "code",
   "execution_count": null,
   "id": "1acb8113-a637-4c8b-9873-3b91ce2397eb",
   "metadata": {},
   "outputs": [],
   "source": []
  },
  {
   "cell_type": "code",
   "execution_count": null,
   "id": "6157a547-1032-4fb0-bb13-3d5485c447e2",
   "metadata": {},
   "outputs": [],
   "source": []
  },
  {
   "cell_type": "code",
   "execution_count": null,
   "id": "29eea572-7d0f-4a46-a4ed-df8a1cb9cd29",
   "metadata": {},
   "outputs": [],
   "source": []
  },
  {
   "cell_type": "markdown",
   "id": "d9dedc97-fc8f-4ff9-94af-e25398fe0940",
   "metadata": {},
   "source": [
    "<br>\n",
    "\n",
    "```export_to_dict()``` - Saves the document as a python dictionary"
   ]
  },
  {
   "cell_type": "code",
   "execution_count": 32,
   "id": "04c4a960-8cbc-449a-b2ba-f9492c3c380f",
   "metadata": {},
   "outputs": [
    {
     "name": "stdout",
     "output_type": "stream",
     "text": [
      "['schema_name', 'version', 'name', 'origin', 'furniture', 'body', 'groups', 'texts', 'pictures', 'tables', 'key_value_items', 'form_items', 'pages']\n"
     ]
    }
   ],
   "source": [
    "doc_dict = docling_doc.export_to_dict()\n",
    "\n",
    "print(list(doc_dict.keys()))"
   ]
  },
  {
   "cell_type": "code",
   "execution_count": null,
   "id": "20a66425-f2f4-4e53-85b9-8c835ab16c3d",
   "metadata": {},
   "outputs": [],
   "source": []
  }
 ],
 "metadata": {
  "kernelspec": {
   "display_name": "Python 3 (ipykernel)",
   "language": "python",
   "name": "python3"
  },
  "language_info": {
   "codemirror_mode": {
    "name": "ipython",
    "version": 3
   },
   "file_extension": ".py",
   "mimetype": "text/x-python",
   "name": "python",
   "nbconvert_exporter": "python",
   "pygments_lexer": "ipython3",
   "version": "3.12.7"
  }
 },
 "nbformat": 4,
 "nbformat_minor": 5
}
