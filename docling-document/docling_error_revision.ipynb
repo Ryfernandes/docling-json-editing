{
 "cells": [
  {
   "cell_type": "markdown",
   "id": "b13d726d-78df-4324-b7be-84371bbd47fe",
   "metadata": {},
   "source": [
    "# Revising Docling Errors\n",
    "\n",
    "The examples below demonstrate a couple of known misconversions that we have encountered and investigates/fixes them with the methods available on Docling Documents\n",
    "\n",
    "----"
   ]
  },
  {
   "cell_type": "markdown",
   "id": "5f6f8e38-53d7-45bd-8334-34b0532c2446",
   "metadata": {},
   "source": [
    "## Imports"
   ]
  },
  {
   "cell_type": "code",
   "execution_count": 1,
   "id": "28238717-dd94-49d5-8ebf-2597535ac2f7",
   "metadata": {},
   "outputs": [],
   "source": [
    "!pip install -q docling"
   ]
  },
  {
   "cell_type": "code",
   "execution_count": 2,
   "id": "d35d011a-2f42-4c41-80a0-1437d5ee70f4",
   "metadata": {},
   "outputs": [],
   "source": [
    "import re\n",
    "\n",
    "from docling.document_converter import DocumentConverter\n",
    "from docling_core.types.doc.document import (\n",
    "    DoclingDocument,\n",
    "    RefItem,\n",
    "    TableCell\n",
    ")"
   ]
  },
  {
   "cell_type": "markdown",
   "id": "8b82568b-041e-4daf-af49-6471516592a7",
   "metadata": {},
   "source": [
    "## BofA 01\n",
    "\n",
    "The first BofA document that was provided in the PoC: ```01_Advantage_Savings.pdf```"
   ]
  },
  {
   "cell_type": "markdown",
   "id": "20c6c8e8-4592-4b13-9da9-c5f714d1bca0",
   "metadata": {},
   "source": [
    "First, I will convert the file and export it to markdown to check the conversion"
   ]
  },
  {
   "cell_type": "code",
   "execution_count": 3,
   "id": "8ccb19d0-5038-4120-9950-bf63a8e84eb3",
   "metadata": {},
   "outputs": [
    {
     "name": "stdout",
     "output_type": "stream",
     "text": [
      "## Bank of America Advantage Savings\n",
      "\n",
      "## Clarity Statement ®  - Overview of key policies and fees\n",
      "\n",
      "## Your Bank of America Advantage Savings Account\n",
      "\n",
      "FDIC\n",
      "\n",
      "Coverage\n",
      "\n",
      "This account is insured by the Federal Deposit Insurance Corporation (FDIC) and is backed by the U.S. government. The standard insurance amount is $250,000 per depositor, per insured bank, for each account ownership category.\n",
      "\n",
      "Monthly Maintenance Fee\n",
      "\n",
      "$8.00\n",
      "\n",
      "each month\n",
      "\n",
      "(We'll waive this fee for the first 6 months.)\n",
      "\n",
      "You can avoid the Monthly Maintenance Fee when you meet ONE of the following requirements during each statement cycle:\n",
      "\n",
      "- · Maintain a minimum daily balance of $500 or more in your account, OR\n",
      "- · Ask us to link your account to your Bank of America Advantage Relationship Banking ® , Bank of America Advantage  with Tiered Interest Checking or Bank of America Advantage ® ® Regular Checking account (first 4 savings accounts), OR\n",
      "- · An owner of this account is under the age of 25 (fiduciary accounts don't qualify), OR\n",
      "- · Be a member of the Preferred Rewards program. Learn more at bankofamerica.com/preferred-rewards, or visit your local financial center.\n",
      "\n",
      "## Interest rate policy\n",
      "\n",
      "Interest rate and interest calculation\n",
      "\n",
      "Your account has a variable interest rate, which means the interest rate may change. Interest rates for your account are based on balance tiers, are set at our discretion and may change at any time without notice.\n",
      "\n",
      "To calculate interest, we apply a daily periodic rate to the collected balance in your account each day. The daily rate that applies will depend on which balance tier your end-of-day balance falls in. We compound and pay any interest earned monthly. Interest is only paid in whole cents and we use standard rounding rules to calculate the amount. This means that an amount less than half of one cent is rounded down to zero, and an amount of half of one cent or more is rounded up to the next whole cent.\n",
      "\n",
      "Extra interest\n",
      "\n",
      "Extra interest is earned automatically when an account owner is enrolled in the Preferred Rewards program. The interest rate will increase by at least 5%, 10% or 20% over the standard rate, and is based on the Preferred Rewards tier in which you're enrolled. We may decide to pay a higher rate.\n",
      "\n",
      "Where can I find information about current interest rates?\n",
      "\n",
      "You can find current rate information by checking bankofamerica.com, calling the number on your account statement or visiting a financial center.\n",
      "\n",
      "## When your deposits are available\n",
      "\n",
      "Cash, direct deposits, wire transfers: On the day we receive them.\n",
      "\n",
      "Checks: Usually the next business day if deposited before the financial center or ATM cutoff time.\n",
      "\n",
      "Mobile Check Deposit: Usually the next business day if deposited by applicable cutoff times. Please refer to Deposit Checks , then Help in the Mobile Banking app for additional details and terms and conditions.\n",
      "\n",
      "If we place a hold on your deposit, we'll let you know the hold reason and when your funds will be available. This is typically provided at the time of deposit but may also be mailed later. Deposits greater than $5,525 and checks deposited within the first 30 days of account opening may be held longer.\n",
      "\n",
      "## Overdraft policy\n",
      "\n",
      "We don't charge overdraft fees on this account. To help you avoid overdrawing your account, transactions will be declined and returned unpaid when you don't have enough money in your account.\n",
      "\n",
      "If this happens, you won't be charged a bank overdraft fee, but the merchant or third party could charge you a fee. For example, you may be charged a late fee if the payment isn't received on time.\n",
      "\n",
      "There may still be times when your account could have a negative balance, but we won't charge an overdraft fee.\n",
      "\n",
      "<!-- image -->\n",
      "\n",
      "## Additional Services\n",
      "\n",
      "## Keep the Change  savings program ®\n",
      "\n",
      "| Bank of America ATMs     | No ATM fee   | For deposits, withdrawals, transfers or balance inquiries                                  |\n",
      "|--------------------------|--------------|--------------------------------------------------------------------------------------------|\n",
      "| Non-Bank of America ATMs | $2.50        | In the U.S., plus any fee charged by the ATM's operator                                    |\n",
      "| Non-Bank of America ATMs | $5.00        | Outside the U.S., plus any fee charged by the ATM's operator                               |\n",
      "| Statement copies         | No fee       | Paper copies available upon request. Printable statements are available in Online Banking. |\n",
      "| Stop payment fee         | $30.00       | For each request; WAIVED for requests on Bill Pay transactions                             |\n",
      "| Cashier's checks         | $15.00       | For each check                                                                             |\n",
      "\n",
      "of America debit card, and we'll round up your purchases to the nearest dollar amount and transfer the Build your savings automatically when you enroll in our Keep the Change savings program. Simply make everyday purchases with your Bank difference from your checking account to your savings account.\n",
      "\n",
      "Please see the Personal Schedule of Fees and Deposit Agreement and Disclosures for your account terms, and information on how to link eligible accounts to avoid the Monthly Maintenance Fee.\n"
     ]
    }
   ],
   "source": [
    "FILE_SOURCE = 'files/pdf/01_Advantage_Savings.pdf'\n",
    "\n",
    "converter = DocumentConverter()\n",
    "result = converter.convert(FILE_SOURCE)\n",
    "\n",
    "doc_1 = result.document\n",
    "\n",
    "print(doc_1.export_to_markdown())"
   ]
  },
  {
   "cell_type": "markdown",
   "id": "6c189e6f-9090-49e1-aed4-6e1b0e6bda91",
   "metadata": {},
   "source": [
    "There are a fair number of imperfections with this conversion, but the one that I will focus on for this example is at the bottom of the document. Notice how the \"Keep the Change\" section header had gotten split from its body text by the table. Additionally, it appears that a large chunk of text from the start of the description for this section has become mixed up. These two issues should be easy to fix."
   ]
  },
  {
   "cell_type": "markdown",
   "id": "8e52ec09-2de6-4d16-be63-9d20b820a05f",
   "metadata": {},
   "source": [
    "To re-order the section header and table, I will find the RefItems of both in the body of the document and simply reverse their positions."
   ]
  },
  {
   "cell_type": "code",
   "execution_count": 4,
   "id": "95da5c3b-2816-4bab-8adc-e8a046a6f95b",
   "metadata": {},
   "outputs": [],
   "source": [
    "# Save the document to JSON for inspection\n",
    "\n",
    "doc_1.save_as_json(filename = \"files/json/01_converted.json\")"
   ]
  },
  {
   "cell_type": "markdown",
   "id": "310e1f6b-f2bd-4667-a184-ee2591e73eac",
   "metadata": {},
   "source": [
    "From inspection of the JSON, the self_ref of the misplaced header is \"#/texts/35\", the jumbled text is \"#/texts/36,\" and the self_ref of the table is \"#/tables/0.\" All are children of the body, which makes our job easier. Here are the steps we will take:\n",
    "\n",
    "- Create RefItems with the self_ref values and use resolve() to get the NodeItems of these elements\n",
    "- Find the indexes of the misordered NodeItems in the body of the document\n",
    "- Switch the position of the NodeItems using their indexes\n",
    "- Change the text property of the jumbled description"
   ]
  },
  {
   "cell_type": "code",
   "execution_count": 5,
   "id": "a36576fd-009d-4e88-acca-134b33c73885",
   "metadata": {},
   "outputs": [
    {
     "name": "stdout",
     "output_type": "stream",
     "text": [
      "Text Item Parent:  cref='#/body'\n",
      "Table Item Parent:  cref='#/body'\n"
     ]
    }
   ],
   "source": [
    "# Create RefItems and access NodeItems\n",
    "\n",
    "text_ref = RefItem(cref=\"#/texts/35\")\n",
    "table_ref = RefItem(cref=\"#/tables/0\")\n",
    "\n",
    "text_item = text_ref.resolve(doc=doc_1)\n",
    "table_item = table_ref.resolve(doc=doc_1)\n",
    "\n",
    "print(\"Text Item Parent: \", text_item.parent)\n",
    "print(\"Table Item Parent: \", table_item.parent)"
   ]
  },
  {
   "cell_type": "code",
   "execution_count": 6,
   "id": "b72e1e7d-b3c3-4e6e-acbd-62bed4a2fe37",
   "metadata": {},
   "outputs": [
    {
     "name": "stdout",
     "output_type": "stream",
     "text": [
      "Text index:  27\n",
      "Table index:  28\n"
     ]
    }
   ],
   "source": [
    "# Get the parent items\n",
    "\n",
    "text_parent = text_item.parent.resolve(doc=doc_1)\n",
    "table_parent = table_item.parent.resolve(doc=doc_1)\n",
    "\n",
    "# Get the indexes of each item\n",
    "\n",
    "text_index = text_parent.children.index(text_item.get_ref())\n",
    "table_index = table_parent.children.index(table_item.get_ref())\n",
    "\n",
    "print(\"Text index: \", text_index)\n",
    "print(\"Table index: \", table_index)"
   ]
  },
  {
   "cell_type": "code",
   "execution_count": 7,
   "id": "d85a49e6-db61-49b3-b5b5-3ee489b4d27f",
   "metadata": {},
   "outputs": [
    {
     "name": "stdout",
     "output_type": "stream",
     "text": [
      "## Bank of America Advantage Savings\n",
      "\n",
      "## Clarity Statement ®  - Overview of key policies and fees\n",
      "\n",
      "## Your Bank of America Advantage Savings Account\n",
      "\n",
      "FDIC\n",
      "\n",
      "Coverage\n",
      "\n",
      "This account is insured by the Federal Deposit Insurance Corporation (FDIC) and is backed by the U.S. government. The standard insurance amount is $250,000 per depositor, per insured bank, for each account ownership category.\n",
      "\n",
      "Monthly Maintenance Fee\n",
      "\n",
      "$8.00\n",
      "\n",
      "each month\n",
      "\n",
      "(We'll waive this fee for the first 6 months.)\n",
      "\n",
      "You can avoid the Monthly Maintenance Fee when you meet ONE of the following requirements during each statement cycle:\n",
      "\n",
      "- · Maintain a minimum daily balance of $500 or more in your account, OR\n",
      "- · Ask us to link your account to your Bank of America Advantage Relationship Banking ® , Bank of America Advantage  with Tiered Interest Checking or Bank of America Advantage ® ® Regular Checking account (first 4 savings accounts), OR\n",
      "- · An owner of this account is under the age of 25 (fiduciary accounts don't qualify), OR\n",
      "- · Be a member of the Preferred Rewards program. Learn more at bankofamerica.com/preferred-rewards, or visit your local financial center.\n",
      "\n",
      "## Interest rate policy\n",
      "\n",
      "Interest rate and interest calculation\n",
      "\n",
      "Your account has a variable interest rate, which means the interest rate may change. Interest rates for your account are based on balance tiers, are set at our discretion and may change at any time without notice.\n",
      "\n",
      "To calculate interest, we apply a daily periodic rate to the collected balance in your account each day. The daily rate that applies will depend on which balance tier your end-of-day balance falls in. We compound and pay any interest earned monthly. Interest is only paid in whole cents and we use standard rounding rules to calculate the amount. This means that an amount less than half of one cent is rounded down to zero, and an amount of half of one cent or more is rounded up to the next whole cent.\n",
      "\n",
      "Extra interest\n",
      "\n",
      "Extra interest is earned automatically when an account owner is enrolled in the Preferred Rewards program. The interest rate will increase by at least 5%, 10% or 20% over the standard rate, and is based on the Preferred Rewards tier in which you're enrolled. We may decide to pay a higher rate.\n",
      "\n",
      "Where can I find information about current interest rates?\n",
      "\n",
      "You can find current rate information by checking bankofamerica.com, calling the number on your account statement or visiting a financial center.\n",
      "\n",
      "## When your deposits are available\n",
      "\n",
      "Cash, direct deposits, wire transfers: On the day we receive them.\n",
      "\n",
      "Checks: Usually the next business day if deposited before the financial center or ATM cutoff time.\n",
      "\n",
      "Mobile Check Deposit: Usually the next business day if deposited by applicable cutoff times. Please refer to Deposit Checks , then Help in the Mobile Banking app for additional details and terms and conditions.\n",
      "\n",
      "If we place a hold on your deposit, we'll let you know the hold reason and when your funds will be available. This is typically provided at the time of deposit but may also be mailed later. Deposits greater than $5,525 and checks deposited within the first 30 days of account opening may be held longer.\n",
      "\n",
      "## Overdraft policy\n",
      "\n",
      "We don't charge overdraft fees on this account. To help you avoid overdrawing your account, transactions will be declined and returned unpaid when you don't have enough money in your account.\n",
      "\n",
      "If this happens, you won't be charged a bank overdraft fee, but the merchant or third party could charge you a fee. For example, you may be charged a late fee if the payment isn't received on time.\n",
      "\n",
      "There may still be times when your account could have a negative balance, but we won't charge an overdraft fee.\n",
      "\n",
      "<!-- image -->\n",
      "\n",
      "## Additional Services\n",
      "\n",
      "| Bank of America ATMs     | No ATM fee   | For deposits, withdrawals, transfers or balance inquiries                                  |\n",
      "|--------------------------|--------------|--------------------------------------------------------------------------------------------|\n",
      "| Non-Bank of America ATMs | $2.50        | In the U.S., plus any fee charged by the ATM's operator                                    |\n",
      "| Non-Bank of America ATMs | $5.00        | Outside the U.S., plus any fee charged by the ATM's operator                               |\n",
      "| Statement copies         | No fee       | Paper copies available upon request. Printable statements are available in Online Banking. |\n",
      "| Stop payment fee         | $30.00       | For each request; WAIVED for requests on Bill Pay transactions                             |\n",
      "| Cashier's checks         | $15.00       | For each check                                                                             |\n",
      "\n",
      "## Keep the Change  savings program ®\n",
      "\n",
      "of America debit card, and we'll round up your purchases to the nearest dollar amount and transfer the Build your savings automatically when you enroll in our Keep the Change savings program. Simply make everyday purchases with your Bank difference from your checking account to your savings account.\n",
      "\n",
      "Please see the Personal Schedule of Fees and Deposit Agreement and Disclosures for your account terms, and information on how to link eligible accounts to avoid the Monthly Maintenance Fee.\n"
     ]
    }
   ],
   "source": [
    "# Switch the values at the two indexes/parents\n",
    "\n",
    "text_parent.children[text_index] = table_item.get_ref()\n",
    "table_parent.children[table_index] = text_item.get_ref()\n",
    "\n",
    "# Visualize the new document\n",
    "\n",
    "print(doc_1.export_to_markdown())"
   ]
  },
  {
   "cell_type": "markdown",
   "id": "1600a183-8839-4cc3-be13-50d5e535ff14",
   "metadata": {},
   "source": [
    "As can be seen, the elements have flipped in position, and the section header now appears in the correct location, above the body text. Lastly, let's change the text property of the jumbled text by just copy-pasting the correct text from the PDF."
   ]
  },
  {
   "cell_type": "code",
   "execution_count": 8,
   "id": "93a75717-a4f4-48a8-8260-a3790499358a",
   "metadata": {},
   "outputs": [
    {
     "name": "stdout",
     "output_type": "stream",
     "text": [
      "## Bank of America Advantage Savings\n",
      "\n",
      "## Clarity Statement ®  - Overview of key policies and fees\n",
      "\n",
      "## Your Bank of America Advantage Savings Account\n",
      "\n",
      "FDIC\n",
      "\n",
      "Coverage\n",
      "\n",
      "This account is insured by the Federal Deposit Insurance Corporation (FDIC) and is backed by the U.S. government. The standard insurance amount is $250,000 per depositor, per insured bank, for each account ownership category.\n",
      "\n",
      "Monthly Maintenance Fee\n",
      "\n",
      "$8.00\n",
      "\n",
      "each month\n",
      "\n",
      "(We'll waive this fee for the first 6 months.)\n",
      "\n",
      "You can avoid the Monthly Maintenance Fee when you meet ONE of the following requirements during each statement cycle:\n",
      "\n",
      "- · Maintain a minimum daily balance of $500 or more in your account, OR\n",
      "- · Ask us to link your account to your Bank of America Advantage Relationship Banking ® , Bank of America Advantage  with Tiered Interest Checking or Bank of America Advantage ® ® Regular Checking account (first 4 savings accounts), OR\n",
      "- · An owner of this account is under the age of 25 (fiduciary accounts don't qualify), OR\n",
      "- · Be a member of the Preferred Rewards program. Learn more at bankofamerica.com/preferred-rewards, or visit your local financial center.\n",
      "\n",
      "## Interest rate policy\n",
      "\n",
      "Interest rate and interest calculation\n",
      "\n",
      "Your account has a variable interest rate, which means the interest rate may change. Interest rates for your account are based on balance tiers, are set at our discretion and may change at any time without notice.\n",
      "\n",
      "To calculate interest, we apply a daily periodic rate to the collected balance in your account each day. The daily rate that applies will depend on which balance tier your end-of-day balance falls in. We compound and pay any interest earned monthly. Interest is only paid in whole cents and we use standard rounding rules to calculate the amount. This means that an amount less than half of one cent is rounded down to zero, and an amount of half of one cent or more is rounded up to the next whole cent.\n",
      "\n",
      "Extra interest\n",
      "\n",
      "Extra interest is earned automatically when an account owner is enrolled in the Preferred Rewards program. The interest rate will increase by at least 5%, 10% or 20% over the standard rate, and is based on the Preferred Rewards tier in which you're enrolled. We may decide to pay a higher rate.\n",
      "\n",
      "Where can I find information about current interest rates?\n",
      "\n",
      "You can find current rate information by checking bankofamerica.com, calling the number on your account statement or visiting a financial center.\n",
      "\n",
      "## When your deposits are available\n",
      "\n",
      "Cash, direct deposits, wire transfers: On the day we receive them.\n",
      "\n",
      "Checks: Usually the next business day if deposited before the financial center or ATM cutoff time.\n",
      "\n",
      "Mobile Check Deposit: Usually the next business day if deposited by applicable cutoff times. Please refer to Deposit Checks , then Help in the Mobile Banking app for additional details and terms and conditions.\n",
      "\n",
      "If we place a hold on your deposit, we'll let you know the hold reason and when your funds will be available. This is typically provided at the time of deposit but may also be mailed later. Deposits greater than $5,525 and checks deposited within the first 30 days of account opening may be held longer.\n",
      "\n",
      "## Overdraft policy\n",
      "\n",
      "We don't charge overdraft fees on this account. To help you avoid overdrawing your account, transactions will be declined and returned unpaid when you don't have enough money in your account.\n",
      "\n",
      "If this happens, you won't be charged a bank overdraft fee, but the merchant or third party could charge you a fee. For example, you may be charged a late fee if the payment isn't received on time.\n",
      "\n",
      "There may still be times when your account could have a negative balance, but we won't charge an overdraft fee.\n",
      "\n",
      "<!-- image -->\n",
      "\n",
      "## Additional Services\n",
      "\n",
      "| Bank of America ATMs     | No ATM fee   | For deposits, withdrawals, transfers or balance inquiries                                  |\n",
      "|--------------------------|--------------|--------------------------------------------------------------------------------------------|\n",
      "| Non-Bank of America ATMs | $2.50        | In the U.S., plus any fee charged by the ATM's operator                                    |\n",
      "| Non-Bank of America ATMs | $5.00        | Outside the U.S., plus any fee charged by the ATM's operator                               |\n",
      "| Statement copies         | No fee       | Paper copies available upon request. Printable statements are available in Online Banking. |\n",
      "| Stop payment fee         | $30.00       | For each request; WAIVED for requests on Bill Pay transactions                             |\n",
      "| Cashier's checks         | $15.00       | For each check                                                                             |\n",
      "\n",
      "## Keep the Change  savings program ®\n",
      "\n",
      "Build your savings automatically when you enroll in our Keep the Change savings program. Simply make everyday purchases with your Bank of America debit card, and we’ll round up your purchases to the nearest dollar amount and transfer the difference from your checking account to your savings account.\n",
      "\n",
      "Please see the Personal Schedule of Fees and Deposit Agreement and Disclosures for your account terms, and information on how to link eligible accounts to avoid the Monthly Maintenance Fee.\n"
     ]
    }
   ],
   "source": [
    "# Get the jumbled node item\n",
    "\n",
    "jumbled_ref = RefItem(cref=\"#/texts/36\")\n",
    "jumbled_item = jumbled_ref.resolve(doc=doc_1)\n",
    "\n",
    "# Correct text from the PDF\n",
    "\n",
    "correct_text = \"Build your savings automatically when you enroll in our Keep the Change savings program. Simply make everyday purchases with your Bank of America debit card, and we’ll round up your purchases to the nearest dollar amount and transfer the difference from your checking account to your savings account.\"\n",
    "\n",
    "# Update the text property of the jumbled item\n",
    "# The original text is still stored in the jumbled_item.orig property, which can help with provenance\n",
    "\n",
    "jumbled_item.text= correct_text\n",
    "\n",
    "# Visualize the new document\n",
    "\n",
    "print(doc_1.export_to_markdown())"
   ]
  },
  {
   "cell_type": "markdown",
   "id": "3e6f9328-f0b5-4fce-8bed-f6fdcebf1cec",
   "metadata": {},
   "source": [
    "Now, **the desired part of the document has been fixed**. Let's save the updated JSON."
   ]
  },
  {
   "cell_type": "code",
   "execution_count": 9,
   "id": "848fc343-a045-475f-a02f-72f4531209e3",
   "metadata": {},
   "outputs": [],
   "source": [
    "doc_1.save_as_json(filename = \"files/json/01_fixed.json\")"
   ]
  },
  {
   "cell_type": "markdown",
   "id": "9090ed17-9ab6-4fe9-8db4-028c095ab9b5",
   "metadata": {},
   "source": [
    "## BofA 02"
   ]
  },
  {
   "cell_type": "markdown",
   "id": "97834041-ef2b-4eb7-94b4-fe6acec76697",
   "metadata": {},
   "source": [
    "The second BofA document that was provided in the PoC: ```02_BofA_CoreChecking_en_ADA.pdf```"
   ]
  },
  {
   "cell_type": "markdown",
   "id": "6c32bf22-dfb1-43f7-af54-32afcbadb5ae",
   "metadata": {},
   "source": [
    "First, I will convert the file and export it to markdown to check the conversion"
   ]
  },
  {
   "cell_type": "code",
   "execution_count": 10,
   "id": "0ef1d78d-d894-4fa3-b299-3437f10f9658",
   "metadata": {},
   "outputs": [
    {
     "name": "stdout",
     "output_type": "stream",
     "text": [
      "Sort\\_Audit: CC:00-53-5421NSB\n",
      "\n",
      "## Bank of America Advantage Plus Banking ®\n",
      "\n",
      "## Clarity Statement ®  - Overview of key policies and fees\n",
      "\n",
      "## Account information\n",
      "\n",
      "Opening Deposit\n",
      "\n",
      "$100 or more\n",
      "\n",
      "Monthly\n",
      "\n",
      "Maintenance\n",
      "\n",
      "Fee\n",
      "\n",
      "$12.00 each month. You can avoid the Monthly Maintenance Fee when you meet ONE of the following requirements during each statement cycle:\n",
      "\n",
      "• Make at least one qualifying Direct Deposit of $250 or more to your account, OR\n",
      "\n",
      "• Maintain a minimum daily balance of $1,500 or more in your account, OR\n",
      "\n",
      "• Be a member of the Preferred Rewards program. Learn more at bankofamerica.com/preferred-rewards.\n",
      "\n",
      "## ATM fees\n",
      "\n",
      "| Bank of America ATMs     | No ATM fee   | For deposits, withdrawals, transfers or balance inquiries    |\n",
      "|--------------------------|--------------|--------------------------------------------------------------|\n",
      "| Non-Bank of America ATMs | $2.50        | In the U.S., plus any fee charged by the ATM's operator      |\n",
      "|                          | $5.00        | Outside the U.S., plus any fee charged by the ATM's operator |\n",
      "| Overdraft policy         |              |                                                              |\n",
      "\n",
      "- · To help you avoid fees, we won't authorize ATM withdrawals or everyday debit card purchases when you don't have enough money in your account at the time of the transaction.\n",
      "- · When we determine you don't have enough money in your account to cover other items such as checks or scheduled payments, we'll either authorize and pay the item and overdraw your account (an overdraft item),  or decline or return the item unpaid (a returned item). When 1 this happens, you may be charged a fee. See details below.\n",
      "- • We offer two overdraft setting options for how you want us to process your other transactions.\n",
      "\n",
      "## Overdraft settings and fees\n",
      "\n",
      "Option 1: Standard - This setting will be automatically applied to your account.\n",
      "\n",
      "- · Your checks and scheduled payments may be paid, causing an overdraft.\n",
      "- · You may be charged an Overdraft Item Fee if you overdraw your account.\n",
      "- · If we return an item unpaid, we won't charge a fee, but the payee may.\n",
      "\n",
      "Option 2: Decline All - You can choose this setting if you would like to have your transactions declined or returned unpaid when you don't have enough money. With this setting you can avoid Overdraft Item Fees.\n",
      "\n",
      "- · Checks or scheduled payments will be returned unpaid if you don't have enough money in your account.\n",
      "- · If your account becomes overdrawn for any reason, we won't charge you an Overdraft Item Fee.\n",
      "- · When we decline or return a transaction, we won't charge a fee, but the payee may.\n",
      "\n",
      "Keep in mind, regardless of your overdraft setting, if you set up Balance Connect  for overdraft protection,  we'll automatically ® 2 transfer available funds from one or more of your linked backup accounts if you're about to overdraw your account.\n",
      "\n",
      "Please see the Personal Schedule of Fees and Deposit Agreement and Disclosures for your account terms.\n",
      "\n",
      "- 1. Our overdraft fee of $10 may apply for overdrafts created by check, recurring debit card transactions, or other electronic means. If your account is overdrawn, you must immediately bring your account to a positive balance. We pay overdrafts at our discretion and we reserve the right not to pay. For example, we typically do not pay overdrafts if your account is not in good standing.\n",
      "- 2. Transfers from a linked (1) brokerage account enrolled in margin lending, (2) Loan Management Account ® , (3) credit card, or (4) line of credit and/or Home Equity Line of Credit are subject to interest charges and governed by the terms and conditions of the account.\n",
      "\n",
      "<!-- image -->\n",
      "\n",
      "| Additional fees Statement copies   | No fee      | Paper copies available upon request. Printable statements are available in Online Banking.                                                                             |\n",
      "|------------------------------------|-------------|------------------------------------------------------------------------------------------------------------------------------------------------------------------------|\n",
      "| Check images                       | No fee      | Printable check images from the last 18 months are available online.                                                                                                   |\n",
      "| Ordering checks                    | Varies      | Depending on the style you choose                                                                                                                                      |\n",
      "| Card replacement                   | No fee      | For each ATM or debit card                                                                                                                                             |\n",
      "| Card replacement                   | $15.00      | For rush delivery                                                                                                                                                      |\n",
      "| Stop payment                       | $30.00      | For each request; WAIVED for requests on debit card or Bill Pay transactions                                                                                           |\n",
      "| Cashier's checks                   | $15.00      | For each check                                                                                                                                                         |\n",
      "| Domestic wire transfers            | $15.00      | For each incoming wire transfer                                                                                                                                        |\n",
      "| Domestic wire transfers            | $30.00      | For each outgoing wire transfer                                                                                                                                        |\n",
      "| International wire transfers       | $15.00      | For each incoming wire transfer: If received in a foreign currency, it will be converted into U.S. Dollars using the applicable exchange rate determined solely by us. |\n",
      "| International wire transfers       | No wire fee | For each outgoing wire transfer sent in foreign currency. Please be advised, exchange rate markups will apply. See below.                                              |\n",
      "\n",
      "$45.00\n",
      "\n",
      "For each outgoing wire transfer sent in U.S. Dollars\n",
      "\n",
      "For international wire transfers, other fees may also apply, including those charged by recipient's financial institution, foreign taxes, and other fees that are part of the wire transfer process. We profit from markups associated with the currency conversion included in our exchange rate (determined solely by us). Before sending in foreign currency, you should consider factors that impact the total cost or the amount available after transfer.\n",
      "\n",
      "Non-Bank of America\n",
      "\n",
      "Teller Withdrawal\n",
      "\n",
      "Per transaction, greater of $5.00 OR 3% of the amount (maximum $10.00) when you use your ATM or debit card, or card number, to make a withdrawal, transfer or payment at another bank and it is processed as a cash disbursement.\n",
      "\n",
      "## When your deposits are available\n",
      "\n",
      "- · Cash, direct deposits, wire transfers: On the day we receive them.\n",
      "- · Checks: Usually the next business day, if deposited before the financial center or ATM cutoff time.\n",
      "- · Mobile Check Deposit: Usually the next business day if deposited by applicable cutoff times. Please refer to Deposit Checks , then Help in the Mobile Banking app for additional details and terms and conditions.\n",
      "- · If we place a hold on your deposit, we'll let you know the hold reason and when your funds will be available. This is typically provided at the time of deposit but may also be mailed later. Deposits greater than $5,525 and checks deposited within the first 30 days of account opening may be held longer.\n",
      "\n",
      "## How we post transactions\n",
      "\n",
      "The way we post transactions impacts your account balance. If there's not enough available money in your account to cover all of your transactions, the posting order can impact the number of overdraft fees you incur. At the end of each business day, we'll group transactions received that day into categories before posting them. Below are the most common categories, and common transaction types in each, in the order that they generally post to your account. Keep in mind that transactions that are still processing may lower your available balance.\n",
      "\n",
      "- · Deposits: Added from highest to lowest dollar amount.\n",
      "- · Many debit transactions: Subtracted based on the date and time you made them. If our system doesn't receive date and time of the transaction, they are posted and subtracted from highest to lowest dollar amount. These include one-time and recurring debit card transactions, one-time transfers, ATM withdrawals, and checks cashed with our tellers.\n",
      "- · Other checks you wrote: Subtracted in check number order, unless our system cannot detect the check number; then, the check transactions are posted and subtracted from highest to lowest dollar amount.\n",
      "- · Most other electronic payments and preauthorized transfers: Subtracted from highest to lowest dollar amount. These include scheduled transfers, online bill payments and preauthorized payments that use your account number.\n",
      "- · Most fees: Subtracted from highest to lowest dollar amounts.\n",
      "\n",
      "## Get the most out of your account\n",
      "\n",
      "<!-- image -->\n",
      "\n",
      "Review all the features and benefits of your new account at bankofamerica.com/quickstart\n",
      "\n",
      "For questions, schedule an appointment to visit a financial center at bankofamerica.com/appointments\n",
      "\n",
      "Call us at 800.432.1000\n",
      "\n",
      "<!-- image -->\n",
      "\n",
      "<!-- image -->\n",
      "\n",
      "Additional fee waivers may be available to Bank of America Private Bank and qualified Merrill Lynch Wealth Management ® clients. Please contact your advisor to learn more.\n",
      "\n",
      "Merrill Lynch, Pierce, Fenner &amp; Smith Incorporated (also referred to as 'MLPF&amp;S' or 'Merrill') makes available certain investment products sponsored, managed, distributed or provided by companies that are affiliates of Bank of America Corporation ('BofA Corp.'). MLPF&amp;S is a registered broker-dealer, registered investment advisor, Member SIPC and a wholly owned subsidiary of BofA Corp. Banking products are provided by Bank of America, N.A. and affiliated banks, Members FDIC and wholly owned subsidiaries of Bank of America Corporation.\n"
     ]
    }
   ],
   "source": [
    "FILE_SOURCE = 'files/pdf/02_BofA_CoreChecking_en_ADA.pdf'\n",
    "\n",
    "converter = DocumentConverter()\n",
    "result = converter.convert(FILE_SOURCE)\n",
    "\n",
    "doc_2 = result.document\n",
    "\n",
    "print(doc_2.export_to_markdown())"
   ]
  },
  {
   "cell_type": "markdown",
   "id": "7c4e0e8f-1c9e-447c-a563-11c599ea7e05",
   "metadata": {},
   "source": [
    "In this document, there are two major issues that I will address/explore. First of all, there is the $45.00 row outside of the \"Additional fees\" table. Additionally, there is an excluded table between Option 1 and Option 2 in the \"Overdraft settings and fees section.\""
   ]
  },
  {
   "cell_type": "code",
   "execution_count": 11,
   "id": "60372737-a04b-45d8-9a06-eb7cf428832e",
   "metadata": {},
   "outputs": [],
   "source": [
    "# Save the document to JSON for inspection\n",
    "\n",
    "doc_2.save_as_json(filename = \"files/json/02_converted.json\")"
   ]
  },
  {
   "cell_type": "markdown",
   "id": "280feb4d-f3a3-4391-9b80-d0f23f474f97",
   "metadata": {},
   "source": [
    "**\\#1: Fix the additional fees table**\n",
    "\n",
    "From inspecting the JSON, it appears that the self_ref of the items of interest are:\n",
    "\n",
    "- Table: \"#/tables/2\"\n",
    "- Texts to go in table: \"#/texts/32-37\""
   ]
  },
  {
   "cell_type": "code",
   "execution_count": 12,
   "id": "f75e5fb2-3931-4924-b9b5-f1f1fe2bc8ef",
   "metadata": {},
   "outputs": [
    {
     "name": "stdout",
     "output_type": "stream",
     "text": [
      "0: $45.00\n",
      "1: For each outgoing wire transfer sent in U.S. Dollars\n",
      "2: For international wire transfers, other fees may also apply, including those charged by recipient's financial institution, foreign taxes, and other fees that are part of the wire transfer process. We profit from markups associated with the currency conversion included in our exchange rate (determined solely by us). Before sending in foreign currency, you should consider factors that impact the total cost or the amount available after transfer.\n",
      "3: Non-Bank of America\n",
      "4: Teller Withdrawal\n",
      "5: Per transaction, greater of $5.00 OR 3% of the amount (maximum $10.00) when you use your ATM or debit card, or card number, to make a withdrawal, transfer or payment at another bank and it is processed as a cash disbursement.\n"
     ]
    }
   ],
   "source": [
    "# Get the table item\n",
    "\n",
    "table_ref = RefItem(cref=\"#/tables/2\")\n",
    "table_item = table_ref.resolve(doc=doc_2)\n",
    "\n",
    "# Get the text items\n",
    "\n",
    "text_refs = [RefItem(cref=f\"#/texts/{i}\") for i in range(32, 38)]\n",
    "text_items = [ref.resolve(doc=doc_2) for ref in text_refs]\n",
    "\n",
    "# Print text items for reference\n",
    "\n",
    "for idx, item in enumerate(text_items):\n",
    "    print(f\"{idx}: {item.text}\")"
   ]
  },
  {
   "cell_type": "markdown",
   "id": "6e1e955a-21ba-4093-bc5e-87a3e6446d45",
   "metadata": {},
   "source": [
    "Now that we have the text saved that needs to go into the table, let's remove the text items themselves from the document."
   ]
  },
  {
   "cell_type": "code",
   "execution_count": 13,
   "id": "72084153-3a55-4283-b262-3cfdbb6fbf53",
   "metadata": {},
   "outputs": [],
   "source": [
    "# Delete the text items\n",
    "\n",
    "doc_2.delete_items(node_items=text_items)"
   ]
  },
  {
   "cell_type": "markdown",
   "id": "b4a4f8b9-0ef8-4a86-b795-b8c2dc0312b5",
   "metadata": {},
   "source": [
    "Finally, let's add a few rows to the table"
   ]
  },
  {
   "cell_type": "code",
   "execution_count": 14,
   "id": "128ba002-12b0-46fd-9b6d-1f40dfa87186",
   "metadata": {},
   "outputs": [],
   "source": [
    "# Access the data property of the table\n",
    "\n",
    "table_data = table_item.data"
   ]
  },
  {
   "cell_type": "code",
   "execution_count": 15,
   "id": "8db79d5a-f1eb-4f42-a109-6062e2ed538e",
   "metadata": {},
   "outputs": [],
   "source": [
    "# Save the previous number of rows\n",
    "\n",
    "prev_rows = table_data.num_rows\n",
    "\n",
    "# Add the three rows necessary to fit our new data\n",
    "\n",
    "table_data.num_rows += 3"
   ]
  },
  {
   "cell_type": "markdown",
   "id": "088a2da8-b7f5-49de-9340-e81482da439a",
   "metadata": {},
   "source": [
    "We need to now append table cells to the table_cells property of the table data to fill in our new rows. To do this in a streamlined manner, I will set up the text that needs to be added to each cell in a 2d array."
   ]
  },
  {
   "cell_type": "code",
   "execution_count": 16,
   "id": "9fe102f2-c453-46e7-9813-9a7201ae42ea",
   "metadata": {},
   "outputs": [],
   "source": [
    "table_text = [\n",
    "    [\"International wire transfers\", text_items[0].text, text_items[1].text],\n",
    "    [\"International wire transfers\", \"\", text_items[2].text],\n",
    "    [f\"{text_items[3].text} {text_items[4].text}\", \"\", text_items[5].text]\n",
    "]"
   ]
  },
  {
   "cell_type": "markdown",
   "id": "e029f058-6789-4f2c-990b-b9c9e7e80432",
   "metadata": {},
   "source": [
    "Now, I will instantiate table cells and add them to the table"
   ]
  },
  {
   "cell_type": "code",
   "execution_count": 17,
   "id": "30bc3cc0-a02c-411d-9d78-3f3a9bee1b9e",
   "metadata": {},
   "outputs": [],
   "source": [
    "# Iterate through table cells and add them to the document\n",
    "\n",
    "for i, row in enumerate(table_text):\n",
    "    for j, text in enumerate(row):\n",
    "        table_data.table_cells.append(\n",
    "            TableCell(\n",
    "                row_span = 1,\n",
    "                col_span = 1,\n",
    "                start_row_offset_idx = prev_rows + i,\n",
    "                end_row_offset_idx = prev_rows + i + 1,\n",
    "                start_col_offset_idx = j,\n",
    "                end_col_offset_idx = j + 1,\n",
    "                text = text\n",
    "            )\n",
    "        )"
   ]
  },
  {
   "cell_type": "code",
   "execution_count": 18,
   "id": "d4407be6-943e-4c82-b643-6d2b569eca25",
   "metadata": {},
   "outputs": [
    {
     "name": "stdout",
     "output_type": "stream",
     "text": [
      "Sort\\_Audit: CC:00-53-5421NSB\n",
      "\n",
      "## Bank of America Advantage Plus Banking ®\n",
      "\n",
      "## Clarity Statement ®  - Overview of key policies and fees\n",
      "\n",
      "## Account information\n",
      "\n",
      "Opening Deposit\n",
      "\n",
      "$100 or more\n",
      "\n",
      "Monthly\n",
      "\n",
      "Maintenance\n",
      "\n",
      "Fee\n",
      "\n",
      "$12.00 each month. You can avoid the Monthly Maintenance Fee when you meet ONE of the following requirements during each statement cycle:\n",
      "\n",
      "• Make at least one qualifying Direct Deposit of $250 or more to your account, OR\n",
      "\n",
      "• Maintain a minimum daily balance of $1,500 or more in your account, OR\n",
      "\n",
      "• Be a member of the Preferred Rewards program. Learn more at bankofamerica.com/preferred-rewards.\n",
      "\n",
      "## ATM fees\n",
      "\n",
      "| Bank of America ATMs     | No ATM fee   | For deposits, withdrawals, transfers or balance inquiries    |\n",
      "|--------------------------|--------------|--------------------------------------------------------------|\n",
      "| Non-Bank of America ATMs | $2.50        | In the U.S., plus any fee charged by the ATM's operator      |\n",
      "|                          | $5.00        | Outside the U.S., plus any fee charged by the ATM's operator |\n",
      "| Overdraft policy         |              |                                                              |\n",
      "\n",
      "- · To help you avoid fees, we won't authorize ATM withdrawals or everyday debit card purchases when you don't have enough money in your account at the time of the transaction.\n",
      "- · When we determine you don't have enough money in your account to cover other items such as checks or scheduled payments, we'll either authorize and pay the item and overdraw your account (an overdraft item),  or decline or return the item unpaid (a returned item). When 1 this happens, you may be charged a fee. See details below.\n",
      "- • We offer two overdraft setting options for how you want us to process your other transactions.\n",
      "\n",
      "## Overdraft settings and fees\n",
      "\n",
      "Option 1: Standard - This setting will be automatically applied to your account.\n",
      "\n",
      "- · Your checks and scheduled payments may be paid, causing an overdraft.\n",
      "- · You may be charged an Overdraft Item Fee if you overdraw your account.\n",
      "- · If we return an item unpaid, we won't charge a fee, but the payee may.\n",
      "\n",
      "Option 2: Decline All - You can choose this setting if you would like to have your transactions declined or returned unpaid when you don't have enough money. With this setting you can avoid Overdraft Item Fees.\n",
      "\n",
      "- · Checks or scheduled payments will be returned unpaid if you don't have enough money in your account.\n",
      "- · If your account becomes overdrawn for any reason, we won't charge you an Overdraft Item Fee.\n",
      "- · When we decline or return a transaction, we won't charge a fee, but the payee may.\n",
      "\n",
      "Keep in mind, regardless of your overdraft setting, if you set up Balance Connect  for overdraft protection,  we'll automatically ® 2 transfer available funds from one or more of your linked backup accounts if you're about to overdraw your account.\n",
      "\n",
      "Please see the Personal Schedule of Fees and Deposit Agreement and Disclosures for your account terms.\n",
      "\n",
      "- 1. Our overdraft fee of $10 may apply for overdrafts created by check, recurring debit card transactions, or other electronic means. If your account is overdrawn, you must immediately bring your account to a positive balance. We pay overdrafts at our discretion and we reserve the right not to pay. For example, we typically do not pay overdrafts if your account is not in good standing.\n",
      "- 2. Transfers from a linked (1) brokerage account enrolled in margin lending, (2) Loan Management Account ® , (3) credit card, or (4) line of credit and/or Home Equity Line of Credit are subject to interest charges and governed by the terms and conditions of the account.\n",
      "\n",
      "<!-- image -->\n",
      "\n",
      "| Additional fees Statement copies      | No fee      | Paper copies available upon request. Printable statements are available in Online Banking.                                                                                                                                                                                                                                                                                                                                                                      |\n",
      "|---------------------------------------|-------------|-----------------------------------------------------------------------------------------------------------------------------------------------------------------------------------------------------------------------------------------------------------------------------------------------------------------------------------------------------------------------------------------------------------------------------------------------------------------|\n",
      "| Check images                          | No fee      | Printable check images from the last 18 months are available online.                                                                                                                                                                                                                                                                                                                                                                                            |\n",
      "| Ordering checks                       | Varies      | Depending on the style you choose                                                                                                                                                                                                                                                                                                                                                                                                                               |\n",
      "| Card replacement                      | No fee      | For each ATM or debit card                                                                                                                                                                                                                                                                                                                                                                                                                                      |\n",
      "| Card replacement                      | $15.00      | For rush delivery                                                                                                                                                                                                                                                                                                                                                                                                                                               |\n",
      "| Stop payment                          | $30.00      | For each request; WAIVED for requests on debit card or Bill Pay transactions                                                                                                                                                                                                                                                                                                                                                                                    |\n",
      "| Cashier's checks                      | $15.00      | For each check                                                                                                                                                                                                                                                                                                                                                                                                                                                  |\n",
      "| Domestic wire transfers               | $15.00      | For each incoming wire transfer                                                                                                                                                                                                                                                                                                                                                                                                                                 |\n",
      "| Domestic wire transfers               | $30.00      | For each outgoing wire transfer                                                                                                                                                                                                                                                                                                                                                                                                                                 |\n",
      "| International wire transfers          | $15.00      | For each incoming wire transfer: If received in a foreign currency, it will be converted into U.S. Dollars using the applicable exchange rate determined solely by us.                                                                                                                                                                                                                                                                                          |\n",
      "| International wire transfers          | No wire fee | For each outgoing wire transfer sent in foreign currency. Please be advised, exchange rate markups will apply. See below.                                                                                                                                                                                                                                                                                                                                       |\n",
      "| International wire transfers          | $45.00      | For each outgoing wire transfer sent in U.S. Dollars                                                                                                                                                                                                                                                                                                                                                                                                            |\n",
      "| International wire transfers          |             | For international wire transfers, other fees may also apply, including those charged by recipient's financial institution, foreign taxes, and other fees that are part of the wire transfer process. We profit from markups associated with the currency conversion included in our exchange rate (determined solely by us). Before sending in foreign currency, you should consider factors that impact the total cost or the amount available after transfer. |\n",
      "| Non-Bank of America Teller Withdrawal |             | Per transaction, greater of $5.00 OR 3% of the amount (maximum $10.00) when you use your ATM or debit card, or card number, to make a withdrawal, transfer or payment at another bank and it is processed as a cash disbursement.                                                                                                                                                                                                                               |\n",
      "\n",
      "## When your deposits are available\n",
      "\n",
      "- · Cash, direct deposits, wire transfers: On the day we receive them.\n",
      "- · Checks: Usually the next business day, if deposited before the financial center or ATM cutoff time.\n",
      "- · Mobile Check Deposit: Usually the next business day if deposited by applicable cutoff times. Please refer to Deposit Checks , then Help in the Mobile Banking app for additional details and terms and conditions.\n",
      "- · If we place a hold on your deposit, we'll let you know the hold reason and when your funds will be available. This is typically provided at the time of deposit but may also be mailed later. Deposits greater than $5,525 and checks deposited within the first 30 days of account opening may be held longer.\n",
      "\n",
      "## How we post transactions\n",
      "\n",
      "The way we post transactions impacts your account balance. If there's not enough available money in your account to cover all of your transactions, the posting order can impact the number of overdraft fees you incur. At the end of each business day, we'll group transactions received that day into categories before posting them. Below are the most common categories, and common transaction types in each, in the order that they generally post to your account. Keep in mind that transactions that are still processing may lower your available balance.\n",
      "\n",
      "- · Deposits: Added from highest to lowest dollar amount.\n",
      "- · Many debit transactions: Subtracted based on the date and time you made them. If our system doesn't receive date and time of the transaction, they are posted and subtracted from highest to lowest dollar amount. These include one-time and recurring debit card transactions, one-time transfers, ATM withdrawals, and checks cashed with our tellers.\n",
      "- · Other checks you wrote: Subtracted in check number order, unless our system cannot detect the check number; then, the check transactions are posted and subtracted from highest to lowest dollar amount.\n",
      "- · Most other electronic payments and preauthorized transfers: Subtracted from highest to lowest dollar amount. These include scheduled transfers, online bill payments and preauthorized payments that use your account number.\n",
      "- · Most fees: Subtracted from highest to lowest dollar amounts.\n",
      "\n",
      "## Get the most out of your account\n",
      "\n",
      "<!-- image -->\n",
      "\n",
      "Review all the features and benefits of your new account at bankofamerica.com/quickstart\n",
      "\n",
      "For questions, schedule an appointment to visit a financial center at bankofamerica.com/appointments\n",
      "\n",
      "Call us at 800.432.1000\n",
      "\n",
      "<!-- image -->\n",
      "\n",
      "<!-- image -->\n",
      "\n",
      "Additional fee waivers may be available to Bank of America Private Bank and qualified Merrill Lynch Wealth Management ® clients. Please contact your advisor to learn more.\n",
      "\n",
      "Merrill Lynch, Pierce, Fenner &amp; Smith Incorporated (also referred to as 'MLPF&amp;S' or 'Merrill') makes available certain investment products sponsored, managed, distributed or provided by companies that are affiliates of Bank of America Corporation ('BofA Corp.'). MLPF&amp;S is a registered broker-dealer, registered investment advisor, Member SIPC and a wholly owned subsidiary of BofA Corp. Banking products are provided by Bank of America, N.A. and affiliated banks, Members FDIC and wholly owned subsidiaries of Bank of America Corporation.\n"
     ]
    }
   ],
   "source": [
    "# Save the updated JSON\n",
    "\n",
    "doc_2.save_as_json(filename = \"files/json/02_fixed.json\")\n",
    "\n",
    "# Visualize the new document\n",
    "\n",
    "print(doc_2.export_to_markdown())"
   ]
  },
  {
   "cell_type": "markdown",
   "id": "2826591a-8926-434e-a62b-c45e1b3afd25",
   "metadata": {},
   "source": [
    "As can be seen, **the table is now formatted exactly as we would like it to be, and the extra text has been removed.**"
   ]
  },
  {
   "cell_type": "markdown",
   "id": "5199d18e-596c-4a94-a59f-9fa81d9738cb",
   "metadata": {},
   "source": [
    "**\\#2: Inspect the missing table**"
   ]
  },
  {
   "cell_type": "markdown",
   "id": "7f5d9be6-9ad4-4942-8180-4e8db56631f7",
   "metadata": {},
   "source": [
    "Upon inspecting the JSON, it appears that the table between option 1 and option 2 does appear in the Docling Document and is fomatted exactly as expected. It is also referenced correctly as the 11th index of the body pointing to \"#/tables/1\". **Thus, this appears to be an issue with the Markdown transformer, rather than the document conversion process.** The nature and source of this issue are deserving of their own investigation, but I will demonstrate below how we can use the Docling Document data to detect omissions like this in the Markdown."
   ]
  },
  {
   "cell_type": "code",
   "execution_count": 19,
   "id": "8dd6983c-9358-4f08-9014-3fe26f128d5c",
   "metadata": {},
   "outputs": [],
   "source": [
    "# Get the markdown text\n",
    "\n",
    "markdown = doc_2.export_to_markdown()\n",
    "\n",
    "# Get the raw text from the DocTags representation of the Docling Document\n",
    "\n",
    "doctags = doc_2.export_to_doctags()\n",
    "raw_text = re.sub(r\"<.*?>\", \"\", doctags, flags=re.DOTALL).strip()"
   ]
  },
  {
   "cell_type": "code",
   "execution_count": 20,
   "id": "43dd6d76-fc32-4d02-a9f1-25ed1548c2e4",
   "metadata": {},
   "outputs": [
    {
     "name": "stdout",
     "output_type": "stream",
     "text": [
      "Unique in the Docling Document: \n",
      "\n",
      " Sort_Audit: Bank of America of and fees or more Fee the when you of • or to your OR • or your OR • ATMsNo feeFor inquiriesNon-Bank ATMs$2.50In by operator$5.00Outside by operatorOverdraft won't enough account account items as this See • Item If won't charge (We charge than 2 these per day.)$10.00 per itemWe fee: is overdrawn $1 less OR items that are $1 less On that were authorized had funds available On ACH resubmissions labeled merchant as 'RETRY PYMT' 'REDEPCHECK' is is subject Information current 11/2024 change. reverse copiesNo feePaper Banking.Check imagesNo feePrintable online.Ordering checksVariesDepending chooseCard replacementNo feeFor card$15.00For deliveryStop payment$30.00For transactionsCashier's checks$15.00For checkDomestic transfers$15.00For transfer$30.00For transferInternational transfers$15.00For us.No feeFor below.International transfers$45.00For DollarsInternational transfersFor transfer.Non-Bank WithdrawalPer & 'MLPF&S' MLPF&S Corporation. © 2024 6812380 00-14-9315 ALL STATES 00-53-5421NSB \n",
      "\n",
      "\n",
      "Unique in the Markdown representation: \n",
      "\n",
      " Sort\\_Audit: ## ## - ## ## | ATMs | No fee | For transfers inquiries | |--------------------------|--------------|--------------------------------------------------------------| | Non-Bank ATMs | $2.50 | In fee operator | | | $5.00 | Outside fee operator | | | | | - card - checks below. - ## - - checks - - - choose transactions - - - transfer - fee For - <!-- image --> | copies | No fee | Paper Printable Banking. | |---------------------------------------|-------------|-----------------------------------------------------------------------------------------------------------------------------------------------------------------------------------------------------------------------------------------------------------------------------------------------------------------------------------------------------------------------------------------------------------------------------------------------------------------| | Check images | No | check online. | | Ordering | Varies | Depending | | Card replacement | No | For | | Card replacement | $15.00 | For delivery | | Stop payment | $30.00 | For | | Cashier's | $15.00 | For | | Domestic wire transfers | $15.00 | For wire transfer | | Domestic transfers | $30.00 | For | | International transfers | $15.00 | For Dollars us. | | International transfers | No | For | | International transfers | $45.00 | | | International | | transfer. | | Non-Bank Withdrawal | Per ## - - - - ## - - ## <!-- image --> <!-- image --> <!-- image --> &amp; 'MLPF&amp;S' MLPF&amp;S\n"
     ]
    }
   ],
   "source": [
    "# Compare the non-overlapping elements that exist in the markdown text and the raw text\n",
    "\n",
    "from collections import Counter\n",
    "\n",
    "# The methodology of this function can be refined a lot more depending on our use case\n",
    "# This is a quick mock up that I made in a few prompts with GenAI\n",
    "\n",
    "def remove_overlaps_preserving_order(a, b):\n",
    "    count_a = Counter(a)\n",
    "    count_b = Counter(b)\n",
    "    \n",
    "    overlap = {item: min(count_a[item], count_b[item]) for item in count_a & count_b}\n",
    "    \n",
    "    def filter_list(lst, keep_counts):\n",
    "        seen = Counter()\n",
    "        result = []\n",
    "        for item in lst:\n",
    "            if item in keep_counts:\n",
    "                if seen[item] < keep_counts[item]:\n",
    "                    result.append(item)\n",
    "                    seen[item] += 1\n",
    "            else:\n",
    "                result.append(item)\n",
    "        return result\n",
    "    \n",
    "    keep_a = {k: count_a[k] - overlap.get(k, 0) for k in count_a}\n",
    "    keep_b = {k: count_b[k] - overlap.get(k, 0) for k in count_b}\n",
    "\n",
    "    return filter_list(a, keep_a), filter_list(b, keep_b)\n",
    "\n",
    "markdown_list = markdown.split()\n",
    "raw_text_list = raw_text.split()\n",
    "\n",
    "(markdown_unique, raw_text_unique) = remove_overlaps_preserving_order(markdown_list, raw_text_list)\n",
    "\n",
    "print(\"Unique in the Docling Document: \\n\\n\", ' '.join(raw_text_unique), '\\n\\n')\n",
    "print(\"Unique in the Markdown representation: \\n\\n\", ' '.join(markdown_unique))"
   ]
  },
  {
   "cell_type": "markdown",
   "id": "44e528b9-27b0-4ec3-96e3-584357e4dd41",
   "metadata": {},
   "source": [
    "As can be seen, this method reveals that **there is a chunk of text present in the original docment that does not exist in the markdown representation**. With more time/refinement this method could more clearly show significant content that is missing from the markdown representation, if we deem this useful."
   ]
  },
  {
   "cell_type": "markdown",
   "id": "242c8032-12d8-494a-bc9c-c2a7cec01234",
   "metadata": {},
   "source": [
    "## Takeaways"
   ]
  },
  {
   "cell_type": "markdown",
   "id": "0541c135-60ee-41be-a0d5-6e213399ae9a",
   "metadata": {},
   "source": [
    "**It is definitely possible to use the editing methods discussed in** ```docling_doc_structure.ipynb``` **to fix errors in document conversion** that we have observed in our PoC's. However, this process is difficult to do in a Jupyter Notebook, since it is hard to locate the RefItem's of objects that you would like to edit. Thus, connecting these editing functions to a UI seems to be the best option, as the RefItem's of different objects could be stored with their previews and updated when the document is edited. \n",
    "\n",
    "Simple actions like moving sections with drag-and-drop and editing text/tables are definitely possible given the methods/implementations shown above. However, the existing \"Rendered Docling Document\" would not be a suitable base for building this editing UI due to it's static nature (tooltips placed over static png images). **A new way of previewing DoclingDocuments (possibly in a basic format similar to Markdown) would need to be developed before making a UI to edit them.**"
   ]
  }
 ],
 "metadata": {
  "kernelspec": {
   "display_name": "Python 3 (ipykernel)",
   "language": "python",
   "name": "python3"
  },
  "language_info": {
   "codemirror_mode": {
    "name": "ipython",
    "version": 3
   },
   "file_extension": ".py",
   "mimetype": "text/x-python",
   "name": "python",
   "nbconvert_exporter": "python",
   "pygments_lexer": "ipython3",
   "version": "3.12.7"
  }
 },
 "nbformat": 4,
 "nbformat_minor": 5
}
